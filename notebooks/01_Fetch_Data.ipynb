{
 "cells": [
  {
   "cell_type": "code",
   "execution_count": 1,
   "metadata": {},
   "outputs": [],
   "source": [
    "import yfinance as yf\n",
    "import pandas as pd\n",
    "import os"
   ]
  },
  {
   "cell_type": "code",
   "execution_count": 2,
   "metadata": {},
   "outputs": [],
   "source": [
    "def fetch_ticker_data(ticker: str, period: str, interval: str) -> pd.DataFrame:\n",
    "    \"\"\"\n",
    "    Download historical stock data from Yahoo Finance.\n",
    "\n",
    "    Args:\n",
    "        ticker (str): Stock ticker symbol.\n",
    "        period (str): How far to look back from last available trading day. \\n\n",
    "                        Valid periods: 1d,5d,1mo,3mo,6mo,1y,2y,5y,10y,ytd,max\n",
    "        interval (str): How frequently to sample data. \\n\n",
    "                        Valid intervals: 1m,2m,5m,15m,30m,60m,90m,1h,1d,5d,1wk,1mo,3mo \\n\n",
    "                        Intraday data cannot extend last 60 days\n",
    "\n",
    "    Returns:\n",
    "        data (pd.DataFrame): A DataFrame containing historical stock data for the given ticker.\n",
    "    \"\"\"\n",
    "    try:\n",
    "        # download historical ticker data\n",
    "        data = yf.download(\n",
    "            tickers=ticker, \n",
    "            period=period,\n",
    "            interval=interval,\n",
    "            actions=True, \n",
    "            threads=True, \n",
    "            auto_adjust=False,\n",
    "            multi_level_index=False,\n",
    "        ).reset_index()\n",
    "\n",
    "        # add ticker column\n",
    "        data['Ticker'] = ticker\n",
    "\n",
    "    except Exception as e:\n",
    "        print(f\"Error downloading {ticker}: {e}\")\n",
    "        data=pd.DataFrame()\n",
    "\n",
    "    return data"
   ]
  },
  {
   "cell_type": "code",
   "execution_count": 3,
   "metadata": {},
   "outputs": [],
   "source": [
    "def save_stock_data(ticker: str, full_df: pd.DataFrame, output_path: str) -> None:\n",
    "    \"\"\"\n",
    "    Save metadata and historical stock data to data output folder for model training\n",
    "\n",
    "    Args:\n",
    "        ticker (str): Stock ticker symbol.\n",
    "        full_df (pd.DataFrame): DataFrame after being combined using combine_stock_data.\n",
    "        output_path (str): output directory for storing data.\n",
    "    \"\"\"\n",
    "    # create directory if it doesn't exist\n",
    "    os.makedirs(output_path, exist_ok=True)\n",
    "\n",
    "    full_file_path = os.path.join(output_path, f\"{ticker}.csv\")\n",
    "    full_df.to_csv(path_or_buf=full_file_path, index=False)"
   ]
  },
  {
   "cell_type": "code",
   "execution_count": 4,
   "metadata": {},
   "outputs": [
    {
     "name": "stdout",
     "output_type": "stream",
     "text": [
      "Downloading Ticker: AAPL\n"
     ]
    },
    {
     "name": "stderr",
     "output_type": "stream",
     "text": [
      "[*********************100%***********************]  1 of 1 completed"
     ]
    },
    {
     "name": "stdout",
     "output_type": "stream",
     "text": [
      "AAPL stock(s) download complete!\n"
     ]
    },
    {
     "name": "stderr",
     "output_type": "stream",
     "text": [
      "\n"
     ]
    }
   ],
   "source": [
    "if __name__ == \"__main__\":\n",
    "    # get Apple Ticker data (\"AAPL\")\n",
    "    ticker = \"AAPL\"\n",
    "\n",
    "    print(f\"Downloading Ticker: {ticker}\")\n",
    "\n",
    "    df = fetch_ticker_data(ticker=ticker, period='2y', interval='1d')\n",
    "\n",
    "    save_stock_data(ticker, full_df=df, output_path=\"../data/input/\")\n",
    "\n",
    "    print(f\"{ticker} stock(s) download complete!\")"
   ]
  },
  {
   "cell_type": "code",
   "execution_count": null,
   "metadata": {},
   "outputs": [],
   "source": []
  }
 ],
 "metadata": {
  "kernelspec": {
   "display_name": ".venv",
   "language": "python",
   "name": "python3"
  },
  "language_info": {
   "codemirror_mode": {
    "name": "ipython",
    "version": 3
   },
   "file_extension": ".py",
   "mimetype": "text/x-python",
   "name": "python",
   "nbconvert_exporter": "python",
   "pygments_lexer": "ipython3",
   "version": "3.11.4"
  }
 },
 "nbformat": 4,
 "nbformat_minor": 2
}
