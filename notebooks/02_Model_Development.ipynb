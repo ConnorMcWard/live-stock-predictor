{
 "cells": [
  {
   "cell_type": "code",
   "execution_count": 1,
   "metadata": {},
   "outputs": [],
   "source": [
    "import pandas as pd\n",
    "from river import linear_model, optim\n",
    "from river import metrics\n",
    "import plotly.express as px\n",
    "import pickle\n",
    "import matplotlib.pyplot as plt"
   ]
  },
  {
   "cell_type": "code",
   "execution_count": 2,
   "metadata": {},
   "outputs": [],
   "source": [
    "df = pd.read_csv(\"../data/input/AAPL.csv\")\n",
    "df[\"Date\"] = pd.to_datetime(df[\"Date\"])\n",
    "\n",
    "# Extract date-based features\n",
    "df[\"Year\"] = df[\"Date\"].dt.year\n",
    "df[\"Month\"] = df[\"Date\"].dt.month\n",
    "df[\"DayOfWeek\"] = df[\"Date\"].dt.dayofweek\n",
    "df[\"MA_5\"] = df[\"Adj Close\"].rolling(window=5).mean().shift(1)  # 5-day moving average\n",
    "df[\"MA_10\"] = df[\"Adj Close\"].rolling(window=10).mean().shift(1)  # 10-day moving average\n",
    "df[\"Volatility\"] = df[\"Adj Close\"].rolling(window=5).std().shift(1)\n",
    "df[\"Momentum\"] = df[\"Adj Close\"].diff(5).shift(1)\n",
    "\n",
    "# Create a lag feature (previous day's adjusted close)\n",
    "df[\"Prev_Close\"] = df[\"Adj Close\"].shift(1)\n",
    "df.dropna(inplace=True)  # Remove first row with NaN"
   ]
  },
  {
   "cell_type": "code",
   "execution_count": 3,
   "metadata": {},
   "outputs": [
    {
     "data": {
      "text/html": [
       "<div>\n",
       "<style scoped>\n",
       "    .dataframe tbody tr th:only-of-type {\n",
       "        vertical-align: middle;\n",
       "    }\n",
       "\n",
       "    .dataframe tbody tr th {\n",
       "        vertical-align: top;\n",
       "    }\n",
       "\n",
       "    .dataframe thead th {\n",
       "        text-align: right;\n",
       "    }\n",
       "</style>\n",
       "<table border=\"1\" class=\"dataframe\">\n",
       "  <thead>\n",
       "    <tr style=\"text-align: right;\">\n",
       "      <th></th>\n",
       "      <th>Date</th>\n",
       "      <th>Adj Close</th>\n",
       "      <th>Close</th>\n",
       "      <th>Dividends</th>\n",
       "      <th>High</th>\n",
       "      <th>Low</th>\n",
       "      <th>Open</th>\n",
       "      <th>Stock Splits</th>\n",
       "      <th>Volume</th>\n",
       "      <th>Ticker</th>\n",
       "      <th>Year</th>\n",
       "      <th>Month</th>\n",
       "      <th>DayOfWeek</th>\n",
       "      <th>MA_5</th>\n",
       "      <th>MA_10</th>\n",
       "      <th>Volatility</th>\n",
       "      <th>Momentum</th>\n",
       "      <th>Prev_Close</th>\n",
       "    </tr>\n",
       "  </thead>\n",
       "  <tbody>\n",
       "    <tr>\n",
       "      <th>10</th>\n",
       "      <td>2023-04-11</td>\n",
       "      <td>159.194595</td>\n",
       "      <td>160.800003</td>\n",
       "      <td>0.0</td>\n",
       "      <td>162.360001</td>\n",
       "      <td>160.509995</td>\n",
       "      <td>162.350006</td>\n",
       "      <td>0.0</td>\n",
       "      <td>47644200</td>\n",
       "      <td>AAPL</td>\n",
       "      <td>2023</td>\n",
       "      <td>4</td>\n",
       "      <td>1</td>\n",
       "      <td>162.808124</td>\n",
       "      <td>160.997385</td>\n",
       "      <td>1.621282</td>\n",
       "      <td>-2.841339</td>\n",
       "      <td>160.412292</td>\n",
       "    </tr>\n",
       "    <tr>\n",
       "      <th>11</th>\n",
       "      <td>2023-04-12</td>\n",
       "      <td>158.501572</td>\n",
       "      <td>160.100006</td>\n",
       "      <td>0.0</td>\n",
       "      <td>162.059998</td>\n",
       "      <td>159.779999</td>\n",
       "      <td>161.220001</td>\n",
       "      <td>0.0</td>\n",
       "      <td>50133100</td>\n",
       "      <td>AAPL</td>\n",
       "      <td>2023</td>\n",
       "      <td>4</td>\n",
       "      <td>2</td>\n",
       "      <td>161.744852</td>\n",
       "      <td>161.246870</td>\n",
       "      <td>1.937746</td>\n",
       "      <td>-5.316360</td>\n",
       "      <td>159.194595</td>\n",
       "    </tr>\n",
       "    <tr>\n",
       "      <th>12</th>\n",
       "      <td>2023-04-13</td>\n",
       "      <td>163.907043</td>\n",
       "      <td>165.559998</td>\n",
       "      <td>0.0</td>\n",
       "      <td>165.800003</td>\n",
       "      <td>161.419998</td>\n",
       "      <td>161.630005</td>\n",
       "      <td>0.0</td>\n",
       "      <td>68445600</td>\n",
       "      <td>AAPL</td>\n",
       "      <td>2023</td>\n",
       "      <td>4</td>\n",
       "      <td>3</td>\n",
       "      <td>160.649899</td>\n",
       "      <td>161.489427</td>\n",
       "      <td>1.908152</td>\n",
       "      <td>-5.474762</td>\n",
       "      <td>158.501572</td>\n",
       "    </tr>\n",
       "    <tr>\n",
       "      <th>13</th>\n",
       "      <td>2023-04-14</td>\n",
       "      <td>163.560547</td>\n",
       "      <td>165.210007</td>\n",
       "      <td>0.0</td>\n",
       "      <td>166.320007</td>\n",
       "      <td>163.820007</td>\n",
       "      <td>164.589996</td>\n",
       "      <td>0.0</td>\n",
       "      <td>49386500</td>\n",
       "      <td>AAPL</td>\n",
       "      <td>2023</td>\n",
       "      <td>4</td>\n",
       "      <td>4</td>\n",
       "      <td>161.006305</td>\n",
       "      <td>161.963644</td>\n",
       "      <td>2.364428</td>\n",
       "      <td>1.782028</td>\n",
       "      <td>163.907043</td>\n",
       "    </tr>\n",
       "    <tr>\n",
       "      <th>14</th>\n",
       "      <td>2023-04-17</td>\n",
       "      <td>163.580338</td>\n",
       "      <td>165.229996</td>\n",
       "      <td>0.0</td>\n",
       "      <td>165.389999</td>\n",
       "      <td>164.029999</td>\n",
       "      <td>165.089996</td>\n",
       "      <td>0.0</td>\n",
       "      <td>41516200</td>\n",
       "      <td>AAPL</td>\n",
       "      <td>2023</td>\n",
       "      <td>4</td>\n",
       "      <td>0</td>\n",
       "      <td>161.115210</td>\n",
       "      <td>162.245801</td>\n",
       "      <td>2.489376</td>\n",
       "      <td>0.544525</td>\n",
       "      <td>163.560547</td>\n",
       "    </tr>\n",
       "  </tbody>\n",
       "</table>\n",
       "</div>"
      ],
      "text/plain": [
       "         Date   Adj Close       Close  Dividends        High         Low  \\\n",
       "10 2023-04-11  159.194595  160.800003        0.0  162.360001  160.509995   \n",
       "11 2023-04-12  158.501572  160.100006        0.0  162.059998  159.779999   \n",
       "12 2023-04-13  163.907043  165.559998        0.0  165.800003  161.419998   \n",
       "13 2023-04-14  163.560547  165.210007        0.0  166.320007  163.820007   \n",
       "14 2023-04-17  163.580338  165.229996        0.0  165.389999  164.029999   \n",
       "\n",
       "          Open  Stock Splits    Volume Ticker  Year  Month  DayOfWeek  \\\n",
       "10  162.350006           0.0  47644200   AAPL  2023      4          1   \n",
       "11  161.220001           0.0  50133100   AAPL  2023      4          2   \n",
       "12  161.630005           0.0  68445600   AAPL  2023      4          3   \n",
       "13  164.589996           0.0  49386500   AAPL  2023      4          4   \n",
       "14  165.089996           0.0  41516200   AAPL  2023      4          0   \n",
       "\n",
       "          MA_5       MA_10  Volatility  Momentum  Prev_Close  \n",
       "10  162.808124  160.997385    1.621282 -2.841339  160.412292  \n",
       "11  161.744852  161.246870    1.937746 -5.316360  159.194595  \n",
       "12  160.649899  161.489427    1.908152 -5.474762  158.501572  \n",
       "13  161.006305  161.963644    2.364428  1.782028  163.907043  \n",
       "14  161.115210  162.245801    2.489376  0.544525  163.560547  "
      ]
     },
     "execution_count": 3,
     "metadata": {},
     "output_type": "execute_result"
    }
   ],
   "source": [
    "df.head()"
   ]
  },
  {
   "cell_type": "code",
   "execution_count": 4,
   "metadata": {},
   "outputs": [],
   "source": [
    "# Convert to river format\n",
    "dataset = [\n",
    "    (\n",
    "        {\n",
    "            \"Year\": row[\"Year\"],\n",
    "            \"Month\": row[\"Month\"],\n",
    "            \"DayOfWeek\": row[\"DayOfWeek\"],\n",
    "            \"Prev_Close\": row[\"Prev_Close\"],\n",
    "            \"MA_5\": row[\"MA_5\"],\n",
    "            \"MA_10\": row[\"MA_10\"],\n",
    "            \"Volatility\": row[\"Volatility\"],\n",
    "            \"Momentum\": row[\"Momentum\"],\n",
    "        },\n",
    "        row[\"Adj Close\"],\n",
    "        row[\"Date\"]  # Store date separately\n",
    "    )\n",
    "    for _, row in df.iterrows()\n",
    "]"
   ]
  },
  {
   "cell_type": "code",
   "execution_count": 5,
   "metadata": {},
   "outputs": [
    {
     "data": {
      "text/plain": [
       "({'Year': 2023,\n",
       "  'Month': 4,\n",
       "  'DayOfWeek': 1,\n",
       "  'Prev_Close': 160.41229248046875,\n",
       "  'MA_5': 162.80812377929686,\n",
       "  'MA_10': 160.99738464355468,\n",
       "  'Volatility': 1.6212817132442896,\n",
       "  'Momentum': -2.841339111328125},\n",
       " 159.19459533691406,\n",
       " Timestamp('2023-04-11 00:00:00'))"
      ]
     },
     "execution_count": 5,
     "metadata": {},
     "output_type": "execute_result"
    }
   ],
   "source": [
    "dataset[0]"
   ]
  },
  {
   "cell_type": "code",
   "execution_count": 6,
   "metadata": {},
   "outputs": [
    {
     "data": {
      "text/html": [
       "<div><details class=\"river-component river-estimator\"><summary class=\"river-summary\"><pre class=\"river-estimator-name\">LinearRegression</pre></summary><code class=\"river-estimator-params\">LinearRegression (\n",
       "  optimizer=Adam (\n",
       "    lr=Constant (\n",
       "      learning_rate=0.009\n",
       "    )\n",
       "    beta_1=0.9\n",
       "    beta_2=0.999\n",
       "    eps=1e-08\n",
       "  )\n",
       "  loss=Squared ()\n",
       "  l2=0.\n",
       "  l1=0.\n",
       "  intercept_init=0.\n",
       "  intercept_lr=Constant (\n",
       "    learning_rate=0.01\n",
       "  )\n",
       "  clip_gradient=1e+12\n",
       "  initializer=Zeros ()\n",
       ")\n",
       "</code></details><style scoped>\n",
       ".river-estimator {\n",
       "    padding: 1em;\n",
       "    border-style: solid;\n",
       "    background: white;\n",
       "    max-width: max-content;\n",
       "}\n",
       "\n",
       ".river-pipeline {\n",
       "    display: flex;\n",
       "    flex-direction: column;\n",
       "    align-items: center;\n",
       "    background: linear-gradient(#000, #000) no-repeat center / 1.5px 100%;\n",
       "}\n",
       "\n",
       ".river-union {\n",
       "    display: flex;\n",
       "    flex-direction: row;\n",
       "    align-items: center;\n",
       "    justify-content: center;\n",
       "    padding: 1em;\n",
       "    border-style: solid;\n",
       "    background: white;\n",
       "}\n",
       "\n",
       ".river-wrapper {\n",
       "    display: flex;\n",
       "    flex-direction: column;\n",
       "    align-items: center;\n",
       "    justify-content: center;\n",
       "    padding: 1em;\n",
       "    border-style: solid;\n",
       "    background: white;\n",
       "}\n",
       "\n",
       ".river-wrapper > .river-estimator {\n",
       "    margin-top: 1em;\n",
       "}\n",
       "\n",
       "/* Vertical spacing between steps */\n",
       "\n",
       ".river-component + .river-component {\n",
       "    margin-top: 2em;\n",
       "}\n",
       "\n",
       ".river-union > .river-estimator {\n",
       "    margin-top: 0;\n",
       "}\n",
       "\n",
       ".river-union > .river-component {\n",
       "    margin-top: 0;\n",
       "}\n",
       "\n",
       ".river-union > .pipeline {\n",
       "    margin-top: 0;\n",
       "}\n",
       "\n",
       "/* Spacing within a union of estimators */\n",
       "\n",
       ".river-union > .river-component + .river-component {\n",
       "    margin-left: 1em;\n",
       "}\n",
       "\n",
       "/* Typography */\n",
       "\n",
       ".river-estimator-params {\n",
       "    display: block;\n",
       "    white-space: pre-wrap;\n",
       "    font-size: 110%;\n",
       "    margin-top: 1em;\n",
       "}\n",
       "\n",
       ".river-estimator > .river-estimator-params,\n",
       ".river-wrapper > .river-details > river-estimator-params {\n",
       "    background-color: white !important;\n",
       "}\n",
       "\n",
       ".river-wrapper > .river-details {\n",
       "    margin-bottom: 1em;\n",
       "}\n",
       "\n",
       ".river-estimator-name {\n",
       "    display: inline;\n",
       "    margin: 0;\n",
       "    font-size: 110%;\n",
       "}\n",
       "\n",
       "/* Toggle */\n",
       "\n",
       ".river-summary {\n",
       "    display: flex;\n",
       "    align-items:center;\n",
       "    cursor: pointer;\n",
       "}\n",
       "\n",
       ".river-summary > div {\n",
       "    width: 100%;\n",
       "}\n",
       "</style></div>"
      ],
      "text/plain": [
       "LinearRegression (\n",
       "  optimizer=Adam (\n",
       "    lr=Constant (\n",
       "      learning_rate=0.009\n",
       "    )\n",
       "    beta_1=0.9\n",
       "    beta_2=0.999\n",
       "    eps=1e-08\n",
       "  )\n",
       "  loss=Squared ()\n",
       "  l2=0.\n",
       "  l1=0.\n",
       "  intercept_init=0.\n",
       "  intercept_lr=Constant (\n",
       "    learning_rate=0.01\n",
       "  )\n",
       "  clip_gradient=1e+12\n",
       "  initializer=Zeros ()\n",
       ")"
      ]
     },
     "execution_count": 6,
     "metadata": {},
     "output_type": "execute_result"
    }
   ],
   "source": [
    "model = linear_model.LinearRegression(optimizer=optim.Adam(lr=0.009))\n",
    "model"
   ]
  },
  {
   "cell_type": "code",
   "execution_count": 7,
   "metadata": {},
   "outputs": [
    {
     "name": "stdout",
     "output_type": "stream",
     "text": [
      "Prediction: 25.83401570221781\n",
      "Prediction: 50.967214488370594\n",
      "Prediction: 75.39239682734843\n",
      "Prediction: 98.80394511608392\n",
      "Prediction: 120.78196093864632\n",
      "Prediction: 141.2805228883952\n",
      "Prediction: 159.99636116701305\n",
      "Prediction: 176.37660082129804\n",
      "Prediction: 190.28779409323903\n",
      "Prediction: 200.62982793214326\n",
      "Prediction: 208.30640461757272\n",
      "Prediction: 213.03308381131777\n",
      "Prediction: 215.2621589018997\n",
      "Prediction: 215.44015000553784\n",
      "Prediction: 213.30478989062536\n",
      "Prediction: 209.7977256236362\n",
      "Prediction: 204.69687187780212\n",
      "Prediction: 198.49636321704565\n",
      "Prediction: 192.41834682976923\n",
      "Prediction: 185.89594203445404\n",
      "Prediction: 179.52202475419418\n",
      "Prediction: 173.4318155990754\n",
      "Prediction: 167.93392185384795\n",
      "Prediction: 162.94456913113882\n",
      "Prediction: 159.2908945559691\n",
      "Prediction: 156.26154772615658\n",
      "Prediction: 154.11942599141557\n",
      "Prediction: 153.38033088725612\n",
      "Prediction: 153.58526559462604\n",
      "Prediction: 154.2863858625066\n",
      "Prediction: 155.8802162565094\n",
      "Prediction: 158.06161243795216\n",
      "Prediction: 160.6394079973494\n",
      "Prediction: 163.71685649529275\n",
      "Prediction: 166.7174790847006\n",
      "Prediction: 170.08067968604345\n",
      "Prediction: 173.50809227781124\n",
      "Prediction: 177.06575601148617\n",
      "Prediction: 180.04218724584177\n",
      "Prediction: 182.9469060497448\n",
      "Prediction: 185.10504086278505\n",
      "Prediction: 186.62432499680853\n",
      "Prediction: 187.80243667052034\n",
      "Prediction: 188.15283102966225\n",
      "Prediction: 188.3214515924068\n",
      "Prediction: 188.21632666171598\n",
      "Prediction: 187.81666358498765\n",
      "Prediction: 187.54370976158762\n",
      "Prediction: 186.59147699730008\n",
      "Prediction: 185.9314847044264\n",
      "Prediction: 185.10634234019568\n",
      "Prediction: 184.46491380960862\n",
      "Prediction: 183.63673617259167\n",
      "Prediction: 183.16971306487977\n",
      "Prediction: 183.11341012166238\n",
      "Prediction: 183.3220139246065\n",
      "Prediction: 184.50555501823763\n",
      "Prediction: 185.46076033296447\n",
      "Prediction: 186.7833600287747\n",
      "Prediction: 188.42523048560457\n",
      "Prediction: 189.75958115013725\n",
      "Prediction: 190.32582976991654\n",
      "Prediction: 191.16516953721265\n",
      "Prediction: 191.2595952066048\n",
      "Prediction: 191.19977712114596\n",
      "Prediction: 191.133971943708\n",
      "Prediction: 190.81279477543998\n",
      "Prediction: 190.93183003435217\n",
      "Prediction: 191.3465403874705\n",
      "Prediction: 191.8730612026964\n",
      "Prediction: 192.10075426438632\n",
      "Prediction: 191.84413142549198\n",
      "Prediction: 192.19427839942188\n",
      "Prediction: 192.32035949167616\n",
      "Prediction: 192.45489861546832\n",
      "Prediction: 192.53010951094146\n",
      "Prediction: 192.54320402148997\n",
      "Prediction: 193.17329189241764\n",
      "Prediction: 193.42924829675457\n",
      "Prediction: 193.32174038436509\n",
      "Prediction: 191.91618476444484\n",
      "Prediction: 189.5354638364333\n",
      "Prediction: 186.45852296077913\n",
      "Prediction: 182.69265353186415\n",
      "Prediction: 178.72785410543779\n",
      "Prediction: 175.04145524530074\n",
      "Prediction: 171.55682690044497\n",
      "Prediction: 169.56327435194012\n",
      "Prediction: 168.384890022127\n",
      "Prediction: 167.5309785104719\n",
      "Prediction: 167.27699367238986\n",
      "Prediction: 167.40739940205907\n",
      "Prediction: 168.55352693801203\n",
      "Prediction: 170.4229043555864\n",
      "Prediction: 172.60575918407312\n",
      "Prediction: 174.64801793927197\n",
      "Prediction: 176.79064925027183\n",
      "Prediction: 179.5793529064843\n",
      "Prediction: 182.82895567774784\n",
      "Prediction: 186.18408043901405\n",
      "Prediction: 189.0144594353622\n",
      "Prediction: 191.46531926797044\n",
      "Prediction: 192.80549439315973\n",
      "Prediction: 192.29979328858596\n",
      "Prediction: 190.4893400744362\n",
      "Prediction: 187.55412821373562\n",
      "Prediction: 184.12656965364064\n",
      "Prediction: 179.80339218242807\n",
      "Prediction: 175.50383967629318\n",
      "Prediction: 171.8194099850541\n",
      "Prediction: 168.7721165772626\n",
      "Prediction: 167.3022630852254\n",
      "Prediction: 166.47905422728877\n",
      "Prediction: 166.05246232284568\n",
      "Prediction: 166.45034258076848\n",
      "Prediction: 167.37752298618344\n",
      "Prediction: 168.7025126559579\n",
      "Prediction: 169.53517504833806\n",
      "Prediction: 170.41707764568216\n",
      "Prediction: 171.27757687817302\n",
      "Prediction: 171.98498792676625\n",
      "Prediction: 172.84438428444278\n",
      "Prediction: 173.4061034334803\n",
      "Prediction: 174.1584366060581\n",
      "Prediction: 175.0841279431358\n",
      "Prediction: 176.0204160510634\n",
      "Prediction: 177.13493788264927\n",
      "Prediction: 178.1625823636193\n",
      "Prediction: 179.33974749459784\n",
      "Prediction: 180.15082219930073\n",
      "Prediction: 180.10036203988204\n",
      "Prediction: 179.99019347989682\n",
      "Prediction: 179.27495459673594\n",
      "Prediction: 178.11908823220597\n",
      "Prediction: 176.46192003067532\n",
      "Prediction: 174.14556740176846\n",
      "Prediction: 172.32548603069458\n",
      "Prediction: 170.50028162963272\n",
      "Prediction: 168.15023809796955\n",
      "Prediction: 165.80000376853695\n",
      "Prediction: 164.25262611282946\n",
      "Prediction: 163.6843919772676\n",
      "Prediction: 164.03468180932046\n",
      "Prediction: 165.8627516066817\n",
      "Prediction: 168.56011839101382\n",
      "Prediction: 171.24291632252317\n",
      "Prediction: 175.08675004830982\n",
      "Prediction: 179.22547733163944\n",
      "Prediction: 182.90157197560745\n",
      "Prediction: 186.3060108107985\n",
      "Prediction: 189.36262391518102\n",
      "Prediction: 191.39039421764812\n",
      "Prediction: 193.155457196302\n",
      "Prediction: 194.1073543583724\n",
      "Prediction: 194.52408486037547\n",
      "Prediction: 193.88327800913504\n",
      "Prediction: 193.47766976230466\n",
      "Prediction: 192.3576078588239\n",
      "Prediction: 191.2160234344717\n",
      "Prediction: 189.3614121490216\n",
      "Prediction: 188.1220056757096\n",
      "Prediction: 187.03225618372355\n",
      "Prediction: 186.1805556220506\n",
      "Prediction: 186.00857106744695\n",
      "Prediction: 185.91503026695233\n",
      "Prediction: 186.51080921614934\n",
      "Prediction: 188.08516739513124\n",
      "Prediction: 189.62629162977703\n",
      "Prediction: 191.81206493417267\n",
      "Prediction: 193.41241102286853\n",
      "Prediction: 194.80643370340033\n",
      "Prediction: 196.5287963433993\n",
      "Prediction: 198.49855898285136\n",
      "Prediction: 199.5897944209246\n",
      "Prediction: 199.6032244817747\n",
      "Prediction: 199.4824780080166\n",
      "Prediction: 198.794228299567\n",
      "Prediction: 197.20480463669932\n",
      "Prediction: 195.47934910672697\n",
      "Prediction: 193.2307729436894\n",
      "Prediction: 191.44598591575246\n",
      "Prediction: 189.91966679610067\n",
      "Prediction: 188.86709467146684\n",
      "Prediction: 186.3356220139234\n",
      "Prediction: 184.02021583172154\n",
      "Prediction: 181.9913547393965\n",
      "Prediction: 179.81158518720287\n",
      "Prediction: 178.33154676887756\n",
      "Prediction: 178.46189153943033\n",
      "Prediction: 179.2335953007492\n",
      "Prediction: 180.5022931914954\n",
      "Prediction: 182.0015881255325\n",
      "Prediction: 183.14068333664025\n",
      "Prediction: 183.76406940564826\n",
      "Prediction: 185.14303815953562\n",
      "Prediction: 187.69717328587993\n",
      "Prediction: 190.17716973282248\n",
      "Prediction: 193.07753472505829\n",
      "Prediction: 195.63717899869195\n",
      "Prediction: 197.27529929873074\n",
      "Prediction: 197.7427438480251\n",
      "Prediction: 196.95080323246782\n",
      "Prediction: 195.38666225337258\n",
      "Prediction: 192.21560253066033\n",
      "Prediction: 188.76450704117562\n",
      "Prediction: 185.6703760489484\n",
      "Prediction: 182.5278695046284\n",
      "Prediction: 180.95927124482233\n",
      "Prediction: 180.6492566991025\n",
      "Prediction: 181.022277921903\n",
      "Prediction: 181.8158255160329\n",
      "Prediction: 183.09223350327048\n",
      "Prediction: 184.19938543178696\n",
      "Prediction: 185.0060621060591\n",
      "Prediction: 185.64654068176085\n",
      "Prediction: 185.77704581200717\n",
      "Prediction: 184.80152045822155\n",
      "Prediction: 183.95762340615357\n",
      "Prediction: 183.4035536814644\n",
      "Prediction: 182.80191974149997\n",
      "Prediction: 181.21709835660442\n",
      "Prediction: 180.29006729028492\n",
      "Prediction: 179.77973013538744\n",
      "Prediction: 178.9531656841695\n",
      "Prediction: 178.1849776040685\n",
      "Prediction: 176.83107642819164\n",
      "Prediction: 174.47760458398184\n",
      "Prediction: 171.34504977833427\n",
      "Prediction: 168.74147435104004\n",
      "Prediction: 166.66071197257588\n",
      "Prediction: 165.51824044635933\n",
      "Prediction: 165.95173535252184\n",
      "Prediction: 166.75939713346693\n",
      "Prediction: 167.60275578134608\n",
      "Prediction: 169.28413293822425\n",
      "Prediction: 170.60313704083882\n",
      "Prediction: 172.81396533555198\n",
      "Prediction: 175.75417156157212\n",
      "Prediction: 177.83156474803013\n",
      "Prediction: 177.30279689752103\n",
      "Prediction: 176.81253236185213\n",
      "Prediction: 175.21225852995892\n",
      "Prediction: 173.43041617013324\n",
      "Prediction: 172.03591029926892\n",
      "Prediction: 170.36086286401388\n",
      "Prediction: 168.18416835993858\n",
      "Prediction: 166.54825841083732\n",
      "Prediction: 165.5013353202221\n",
      "Prediction: 164.4070186564329\n",
      "Prediction: 164.23555870282985\n",
      "Prediction: 164.67021938900032\n",
      "Prediction: 165.6154973084865\n",
      "Prediction: 167.11757504327807\n",
      "Prediction: 170.92083643527275\n",
      "Prediction: 173.27055216122412\n",
      "Prediction: 174.34222609906507\n",
      "Prediction: 174.21283647241506\n",
      "Prediction: 173.52474998706282\n",
      "Prediction: 171.01465492127747\n",
      "Prediction: 168.02093086690348\n",
      "Prediction: 166.23682364756934\n",
      "Prediction: 164.9885021415578\n",
      "Prediction: 164.47042074670776\n",
      "Prediction: 164.30703448945175\n",
      "Prediction: 164.96729169076463\n",
      "Prediction: 166.81273646864614\n",
      "Prediction: 167.64575170644622\n",
      "Prediction: 169.16846451258272\n",
      "Prediction: 173.2564478473792\n",
      "Prediction: 178.84004825090588\n",
      "Prediction: 182.20459050740456\n",
      "Prediction: 186.18100473196625\n",
      "Prediction: 189.1302137281006\n",
      "Prediction: 190.54842571838412\n",
      "Prediction: 189.73098962471727\n",
      "Prediction: 190.79057147833635\n",
      "Prediction: 190.99610424259214\n",
      "Prediction: 191.15834292603066\n",
      "Prediction: 190.50214071724\n",
      "Prediction: 189.8674410140949\n",
      "Prediction: 189.61883566305875\n",
      "Prediction: 189.6758337139176\n",
      "Prediction: 188.59836309556817\n",
      "Prediction: 187.57293062771453\n",
      "Prediction: 187.8381012522281\n",
      "Prediction: 187.94383562429692\n",
      "Prediction: 188.45343302078342\n",
      "Prediction: 189.74463204333688\n",
      "Prediction: 191.4809480727073\n",
      "Prediction: 193.02662314495285\n",
      "Prediction: 194.78705473897884\n",
      "Prediction: 196.3385416875633\n",
      "Prediction: 197.19411281037156\n",
      "Prediction: 197.5580940665364\n",
      "Prediction: 198.5998735882707\n",
      "Prediction: 204.78886212999726\n",
      "Prediction: 210.2934715539778\n",
      "Prediction: 214.87070312986557\n",
      "Prediction: 217.92037706807628\n",
      "Prediction: 221.76414672830967\n",
      "Prediction: 220.12050795148033\n",
      "Prediction: 216.9425457015365\n",
      "Prediction: 213.2857433893707\n",
      "Prediction: 210.3943398339348\n",
      "Prediction: 207.62879416934615\n",
      "Prediction: 207.31403103883568\n",
      "Prediction: 207.06168772321988\n",
      "Prediction: 207.06983868211907\n",
      "Prediction: 210.75283170659034\n",
      "Prediction: 215.15496841601694\n",
      "Prediction: 220.09141685851571\n",
      "Prediction: 226.38063474778042\n",
      "Prediction: 232.38481155419737\n",
      "Prediction: 236.41669758914867\n",
      "Prediction: 239.32641170089155\n",
      "Prediction: 238.5227304342602\n",
      "Prediction: 238.0610716298649\n",
      "Prediction: 237.96510643315108\n",
      "Prediction: 235.41108954849014\n",
      "Prediction: 229.27980484574013\n",
      "Prediction: 224.4418303985345\n",
      "Prediction: 219.53130350098277\n",
      "Prediction: 216.02599565426755\n",
      "Prediction: 213.76317915278506\n",
      "Prediction: 211.69519013481127\n",
      "Prediction: 211.73638319903802\n",
      "Prediction: 212.12453731081274\n",
      "Prediction: 213.7094084743164\n",
      "Prediction: 216.2289709809449\n",
      "Prediction: 220.28468014354863\n",
      "Prediction: 221.64845485249015\n",
      "Prediction: 221.05202293538395\n",
      "Prediction: 216.2897568505948\n",
      "Prediction: 212.40985253419038\n",
      "Prediction: 209.56547318018102\n",
      "Prediction: 209.08833120894164\n",
      "Prediction: 209.05001659424033\n",
      "Prediction: 212.50550165435868\n",
      "Prediction: 216.4448339464189\n",
      "Prediction: 220.09325741481737\n",
      "Prediction: 224.66812821235172\n",
      "Prediction: 228.29316234536236\n",
      "Prediction: 231.29663522021477\n",
      "Prediction: 232.9188392224786\n",
      "Prediction: 233.0065437224934\n",
      "Prediction: 231.30117620735797\n",
      "Prediction: 229.78308790193\n",
      "Prediction: 228.13715235883208\n",
      "Prediction: 226.25559817453117\n",
      "Prediction: 224.75464792112092\n",
      "Prediction: 225.2634543689689\n",
      "Prediction: 223.5143348844235\n",
      "Prediction: 220.7568973239958\n",
      "Prediction: 219.33364499342676\n",
      "Prediction: 219.21796320081015\n",
      "Prediction: 217.7400509151462\n",
      "Prediction: 217.84658996224016\n",
      "Prediction: 219.4115405480846\n",
      "Prediction: 221.40267379216394\n",
      "Prediction: 222.2912375013884\n",
      "Prediction: 221.89595386299345\n",
      "Prediction: 219.52715544335862\n",
      "Prediction: 219.0938162385819\n",
      "Prediction: 220.6825831822641\n",
      "Prediction: 224.6136151957348\n",
      "Prediction: 226.19810223013252\n",
      "Prediction: 228.51602501020093\n",
      "Prediction: 229.64274518297293\n",
      "Prediction: 229.29717196789184\n",
      "Prediction: 228.60255101809673\n",
      "Prediction: 229.50218799748106\n",
      "Prediction: 231.1834646769272\n",
      "Prediction: 228.77736538676552\n",
      "Prediction: 227.7036000186021\n",
      "Prediction: 225.85127116454478\n",
      "Prediction: 223.55849100028414\n",
      "Prediction: 220.30355827003962\n",
      "Prediction: 222.53100047770494\n",
      "Prediction: 224.5759579299035\n",
      "Prediction: 226.13115370366359\n",
      "Prediction: 227.60274604621577\n",
      "Prediction: 232.07664301602625\n",
      "Prediction: 234.52726502251193\n",
      "Prediction: 235.24019487833647\n",
      "Prediction: 236.81630158541444\n",
      "Prediction: 238.3468718188176\n",
      "Prediction: 238.5897011862182\n",
      "Prediction: 236.82798381038245\n",
      "Prediction: 233.67800490496222\n",
      "Prediction: 231.06991482181883\n",
      "Prediction: 228.72061255532725\n",
      "Prediction: 228.1383291045356\n",
      "Prediction: 227.73578150598055\n",
      "Prediction: 226.74811384799528\n",
      "Prediction: 224.40896406624879\n",
      "Prediction: 221.53838615828192\n",
      "Prediction: 219.80096243810394\n",
      "Prediction: 219.29810898631487\n",
      "Prediction: 220.4708959111524\n",
      "Prediction: 223.9151824629273\n",
      "Prediction: 225.49530184417137\n",
      "Prediction: 226.11990362537432\n",
      "Prediction: 226.70764620178795\n",
      "Prediction: 227.9477648575682\n",
      "Prediction: 228.21810991102865\n",
      "Prediction: 227.5380994051482\n",
      "Prediction: 228.833900100441\n",
      "Prediction: 229.08074272758998\n",
      "Prediction: 229.1074372189168\n",
      "Prediction: 228.73588620728538\n",
      "Prediction: 229.94561747164414\n",
      "Prediction: 231.9839484234247\n",
      "Prediction: 234.43427359140458\n",
      "Prediction: 236.64329102200298\n",
      "Prediction: 239.44572782650522\n",
      "Prediction: 242.54715150424548\n",
      "Prediction: 245.29745121120524\n",
      "Prediction: 246.7351500912778\n",
      "Prediction: 247.28565989431078\n",
      "Prediction: 247.0241621526519\n",
      "Prediction: 248.08144517568314\n",
      "Prediction: 247.921464886886\n",
      "Prediction: 247.54748734127494\n",
      "Prediction: 247.8241827019658\n",
      "Prediction: 248.11870122798558\n",
      "Prediction: 249.9097510105997\n",
      "Prediction: 251.15883686030466\n",
      "Prediction: 250.5907285844839\n",
      "Prediction: 251.98898737634516\n",
      "Prediction: 254.33065453869762\n",
      "Prediction: 256.36320457371664\n",
      "Prediction: 259.19960364550093\n",
      "Prediction: 261.153045466886\n",
      "Prediction: 258.804356177829\n",
      "Prediction: 254.99887149540612\n",
      "Prediction: 249.2497001117122\n",
      "Prediction: 242.55586958867815\n",
      "Prediction: 238.2586154772939\n",
      "Prediction: 236.34569984405263\n",
      "Prediction: 235.09943131494364\n",
      "Prediction: 234.63118531019023\n",
      "Prediction: 233.37492247214905\n",
      "Prediction: 232.36092137739504\n",
      "Prediction: 232.60767318382264\n",
      "Prediction: 233.26189062909663\n",
      "Prediction: 230.2928930872056\n",
      "Prediction: 228.6001948477874\n",
      "Prediction: 224.44999656567944\n",
      "Prediction: 221.9032810666062\n",
      "Prediction: 218.79176778781147\n",
      "Prediction: 219.71122831849428\n",
      "Prediction: 224.7105567022722\n",
      "Prediction: 233.46439143969866\n",
      "Prediction: 239.57092936043057\n",
      "Prediction: 243.61071674171907\n",
      "Prediction: 243.64917017340727\n",
      "Prediction: 239.83984785587188\n",
      "Prediction: 237.20536119592046\n",
      "Prediction: 233.86317850518208\n",
      "Prediction: 230.02978739896196\n",
      "Prediction: 224.83524012076896\n",
      "Prediction: 223.91652669579986\n",
      "Prediction: 225.10992415619282\n",
      "Prediction: 230.0636479093091\n",
      "Prediction: 237.468786420001\n",
      "Prediction: 245.69134795711045\n",
      "Prediction: 251.57179849783802\n",
      "Prediction: 255.02412445013618\n",
      "Prediction: 256.2670946143525\n",
      "Prediction: 254.96011640931096\n",
      "Prediction: 253.11976031247187\n",
      "Prediction: 248.71393279155333\n",
      "Prediction: 241.0844768926336\n",
      "Prediction: 235.2391972941556\n",
      "Prediction: 231.91800381021372\n",
      "Prediction: 228.1017201112388\n",
      "Prediction: 226.84288234967784\n",
      "Prediction: 228.77430482960577\n",
      "Prediction: 232.1705353882713\n",
      "Prediction: 233.53040245662675\n",
      "Prediction: 230.68624753890379\n",
      "Prediction: 226.0824332753567\n",
      "Prediction: 218.77640100226495\n",
      "Prediction: 210.71156752656407\n",
      "Prediction: 205.35258791313177\n",
      "Prediction: 203.9701409029903\n",
      "Prediction: 204.11646446494785\n",
      "Prediction: 206.63052435201774\n",
      "Prediction: 210.90648910568828\n",
      "Prediction: 216.02422753893507\n"
     ]
    }
   ],
   "source": [
    "# Train incrementally\n",
    "for x, y, _ in dataset:\n",
    "    model.learn_one(x, y)\n",
    "    print(\"Prediction:\", model.predict_one(x))"
   ]
  },
  {
   "cell_type": "code",
   "execution_count": 8,
   "metadata": {},
   "outputs": [],
   "source": [
    "# Evaluate model\n",
    "def evaluate_model(model, dataset): \n",
    "    metric = metrics.MAE()  # Use MAE directly\n",
    "\n",
    "    results = []\n",
    "\n",
    "    for x, y, date in dataset:  # Unpack date\n",
    "        y_pred = model.predict_one(x)  # Predict\n",
    "        model.learn_one(x, y)  # Train\n",
    "\n",
    "        metric.update(y, y_pred)  # Update metric\n",
    "\n",
    "        # Store data for visualization\n",
    "        results.append((date, y, y_pred))\n",
    "\n",
    "    df_results = pd.DataFrame(results, columns=[\"Date\", \"Actual\", \"Prediction\"])\n",
    "\n",
    "    # Create interactive plot with Plotly Express\n",
    "    fig = px.line(\n",
    "        df_results,\n",
    "        x=\"Date\",\n",
    "        y=[\"Actual\", \"Prediction\"],\n",
    "        title=f\"AAPL Stock Price Prediction - MAE: {metric.get():.2f}\",\n",
    "        labels={\"value\": \"Price\", \"variable\": \"Type\"},\n",
    "        template=\"plotly_white\"\n",
    "    )\n",
    "\n",
    "    return fig"
   ]
  },
  {
   "cell_type": "code",
   "execution_count": 9,
   "metadata": {},
   "outputs": [
    {
     "data": {
      "application/vnd.plotly.v1+json": {
       "config": {
        "plotlyServerURL": "https://plot.ly"
       },
       "data": [
        {
         "hovertemplate": "Type=Actual<br>Date=%{x}<br>Price=%{y}<extra></extra>",
         "legendgroup": "Actual",
         "line": {
          "color": "#636efa",
          "dash": "solid"
         },
         "marker": {
          "symbol": "circle"
         },
         "mode": "lines",
         "name": "Actual",
         "orientation": "v",
         "showlegend": true,
         "type": "scatter",
         "x": [
          "2023-04-11T00:00:00.000000000",
          "2023-04-12T00:00:00.000000000",
          "2023-04-13T00:00:00.000000000",
          "2023-04-14T00:00:00.000000000",
          "2023-04-17T00:00:00.000000000",
          "2023-04-18T00:00:00.000000000",
          "2023-04-19T00:00:00.000000000",
          "2023-04-20T00:00:00.000000000",
          "2023-04-21T00:00:00.000000000",
          "2023-04-24T00:00:00.000000000",
          "2023-04-25T00:00:00.000000000",
          "2023-04-26T00:00:00.000000000",
          "2023-04-27T00:00:00.000000000",
          "2023-04-28T00:00:00.000000000",
          "2023-05-01T00:00:00.000000000",
          "2023-05-02T00:00:00.000000000",
          "2023-05-03T00:00:00.000000000",
          "2023-05-04T00:00:00.000000000",
          "2023-05-05T00:00:00.000000000",
          "2023-05-08T00:00:00.000000000",
          "2023-05-09T00:00:00.000000000",
          "2023-05-10T00:00:00.000000000",
          "2023-05-11T00:00:00.000000000",
          "2023-05-12T00:00:00.000000000",
          "2023-05-15T00:00:00.000000000",
          "2023-05-16T00:00:00.000000000",
          "2023-05-17T00:00:00.000000000",
          "2023-05-18T00:00:00.000000000",
          "2023-05-19T00:00:00.000000000",
          "2023-05-22T00:00:00.000000000",
          "2023-05-23T00:00:00.000000000",
          "2023-05-24T00:00:00.000000000",
          "2023-05-25T00:00:00.000000000",
          "2023-05-26T00:00:00.000000000",
          "2023-05-30T00:00:00.000000000",
          "2023-05-31T00:00:00.000000000",
          "2023-06-01T00:00:00.000000000",
          "2023-06-02T00:00:00.000000000",
          "2023-06-05T00:00:00.000000000",
          "2023-06-06T00:00:00.000000000",
          "2023-06-07T00:00:00.000000000",
          "2023-06-08T00:00:00.000000000",
          "2023-06-09T00:00:00.000000000",
          "2023-06-12T00:00:00.000000000",
          "2023-06-13T00:00:00.000000000",
          "2023-06-14T00:00:00.000000000",
          "2023-06-15T00:00:00.000000000",
          "2023-06-16T00:00:00.000000000",
          "2023-06-20T00:00:00.000000000",
          "2023-06-21T00:00:00.000000000",
          "2023-06-22T00:00:00.000000000",
          "2023-06-23T00:00:00.000000000",
          "2023-06-26T00:00:00.000000000",
          "2023-06-27T00:00:00.000000000",
          "2023-06-28T00:00:00.000000000",
          "2023-06-29T00:00:00.000000000",
          "2023-06-30T00:00:00.000000000",
          "2023-07-03T00:00:00.000000000",
          "2023-07-05T00:00:00.000000000",
          "2023-07-06T00:00:00.000000000",
          "2023-07-07T00:00:00.000000000",
          "2023-07-10T00:00:00.000000000",
          "2023-07-11T00:00:00.000000000",
          "2023-07-12T00:00:00.000000000",
          "2023-07-13T00:00:00.000000000",
          "2023-07-14T00:00:00.000000000",
          "2023-07-17T00:00:00.000000000",
          "2023-07-18T00:00:00.000000000",
          "2023-07-19T00:00:00.000000000",
          "2023-07-20T00:00:00.000000000",
          "2023-07-21T00:00:00.000000000",
          "2023-07-24T00:00:00.000000000",
          "2023-07-25T00:00:00.000000000",
          "2023-07-26T00:00:00.000000000",
          "2023-07-27T00:00:00.000000000",
          "2023-07-28T00:00:00.000000000",
          "2023-07-31T00:00:00.000000000",
          "2023-08-01T00:00:00.000000000",
          "2023-08-02T00:00:00.000000000",
          "2023-08-03T00:00:00.000000000",
          "2023-08-04T00:00:00.000000000",
          "2023-08-07T00:00:00.000000000",
          "2023-08-08T00:00:00.000000000",
          "2023-08-09T00:00:00.000000000",
          "2023-08-10T00:00:00.000000000",
          "2023-08-11T00:00:00.000000000",
          "2023-08-14T00:00:00.000000000",
          "2023-08-15T00:00:00.000000000",
          "2023-08-16T00:00:00.000000000",
          "2023-08-17T00:00:00.000000000",
          "2023-08-18T00:00:00.000000000",
          "2023-08-21T00:00:00.000000000",
          "2023-08-22T00:00:00.000000000",
          "2023-08-23T00:00:00.000000000",
          "2023-08-24T00:00:00.000000000",
          "2023-08-25T00:00:00.000000000",
          "2023-08-28T00:00:00.000000000",
          "2023-08-29T00:00:00.000000000",
          "2023-08-30T00:00:00.000000000",
          "2023-08-31T00:00:00.000000000",
          "2023-09-01T00:00:00.000000000",
          "2023-09-05T00:00:00.000000000",
          "2023-09-06T00:00:00.000000000",
          "2023-09-07T00:00:00.000000000",
          "2023-09-08T00:00:00.000000000",
          "2023-09-11T00:00:00.000000000",
          "2023-09-12T00:00:00.000000000",
          "2023-09-13T00:00:00.000000000",
          "2023-09-14T00:00:00.000000000",
          "2023-09-15T00:00:00.000000000",
          "2023-09-18T00:00:00.000000000",
          "2023-09-19T00:00:00.000000000",
          "2023-09-20T00:00:00.000000000",
          "2023-09-21T00:00:00.000000000",
          "2023-09-22T00:00:00.000000000",
          "2023-09-25T00:00:00.000000000",
          "2023-09-26T00:00:00.000000000",
          "2023-09-27T00:00:00.000000000",
          "2023-09-28T00:00:00.000000000",
          "2023-09-29T00:00:00.000000000",
          "2023-10-02T00:00:00.000000000",
          "2023-10-03T00:00:00.000000000",
          "2023-10-04T00:00:00.000000000",
          "2023-10-05T00:00:00.000000000",
          "2023-10-06T00:00:00.000000000",
          "2023-10-09T00:00:00.000000000",
          "2023-10-10T00:00:00.000000000",
          "2023-10-11T00:00:00.000000000",
          "2023-10-12T00:00:00.000000000",
          "2023-10-13T00:00:00.000000000",
          "2023-10-16T00:00:00.000000000",
          "2023-10-17T00:00:00.000000000",
          "2023-10-18T00:00:00.000000000",
          "2023-10-19T00:00:00.000000000",
          "2023-10-20T00:00:00.000000000",
          "2023-10-23T00:00:00.000000000",
          "2023-10-24T00:00:00.000000000",
          "2023-10-25T00:00:00.000000000",
          "2023-10-26T00:00:00.000000000",
          "2023-10-27T00:00:00.000000000",
          "2023-10-30T00:00:00.000000000",
          "2023-10-31T00:00:00.000000000",
          "2023-11-01T00:00:00.000000000",
          "2023-11-02T00:00:00.000000000",
          "2023-11-03T00:00:00.000000000",
          "2023-11-06T00:00:00.000000000",
          "2023-11-07T00:00:00.000000000",
          "2023-11-08T00:00:00.000000000",
          "2023-11-09T00:00:00.000000000",
          "2023-11-10T00:00:00.000000000",
          "2023-11-13T00:00:00.000000000",
          "2023-11-14T00:00:00.000000000",
          "2023-11-15T00:00:00.000000000",
          "2023-11-16T00:00:00.000000000",
          "2023-11-17T00:00:00.000000000",
          "2023-11-20T00:00:00.000000000",
          "2023-11-21T00:00:00.000000000",
          "2023-11-22T00:00:00.000000000",
          "2023-11-24T00:00:00.000000000",
          "2023-11-27T00:00:00.000000000",
          "2023-11-28T00:00:00.000000000",
          "2023-11-29T00:00:00.000000000",
          "2023-11-30T00:00:00.000000000",
          "2023-12-01T00:00:00.000000000",
          "2023-12-04T00:00:00.000000000",
          "2023-12-05T00:00:00.000000000",
          "2023-12-06T00:00:00.000000000",
          "2023-12-07T00:00:00.000000000",
          "2023-12-08T00:00:00.000000000",
          "2023-12-11T00:00:00.000000000",
          "2023-12-12T00:00:00.000000000",
          "2023-12-13T00:00:00.000000000",
          "2023-12-14T00:00:00.000000000",
          "2023-12-15T00:00:00.000000000",
          "2023-12-18T00:00:00.000000000",
          "2023-12-19T00:00:00.000000000",
          "2023-12-20T00:00:00.000000000",
          "2023-12-21T00:00:00.000000000",
          "2023-12-22T00:00:00.000000000",
          "2023-12-26T00:00:00.000000000",
          "2023-12-27T00:00:00.000000000",
          "2023-12-28T00:00:00.000000000",
          "2023-12-29T00:00:00.000000000",
          "2024-01-02T00:00:00.000000000",
          "2024-01-03T00:00:00.000000000",
          "2024-01-04T00:00:00.000000000",
          "2024-01-05T00:00:00.000000000",
          "2024-01-08T00:00:00.000000000",
          "2024-01-09T00:00:00.000000000",
          "2024-01-10T00:00:00.000000000",
          "2024-01-11T00:00:00.000000000",
          "2024-01-12T00:00:00.000000000",
          "2024-01-16T00:00:00.000000000",
          "2024-01-17T00:00:00.000000000",
          "2024-01-18T00:00:00.000000000",
          "2024-01-19T00:00:00.000000000",
          "2024-01-22T00:00:00.000000000",
          "2024-01-23T00:00:00.000000000",
          "2024-01-24T00:00:00.000000000",
          "2024-01-25T00:00:00.000000000",
          "2024-01-26T00:00:00.000000000",
          "2024-01-29T00:00:00.000000000",
          "2024-01-30T00:00:00.000000000",
          "2024-01-31T00:00:00.000000000",
          "2024-02-01T00:00:00.000000000",
          "2024-02-02T00:00:00.000000000",
          "2024-02-05T00:00:00.000000000",
          "2024-02-06T00:00:00.000000000",
          "2024-02-07T00:00:00.000000000",
          "2024-02-08T00:00:00.000000000",
          "2024-02-09T00:00:00.000000000",
          "2024-02-12T00:00:00.000000000",
          "2024-02-13T00:00:00.000000000",
          "2024-02-14T00:00:00.000000000",
          "2024-02-15T00:00:00.000000000",
          "2024-02-16T00:00:00.000000000",
          "2024-02-20T00:00:00.000000000",
          "2024-02-21T00:00:00.000000000",
          "2024-02-22T00:00:00.000000000",
          "2024-02-23T00:00:00.000000000",
          "2024-02-26T00:00:00.000000000",
          "2024-02-27T00:00:00.000000000",
          "2024-02-28T00:00:00.000000000",
          "2024-02-29T00:00:00.000000000",
          "2024-03-01T00:00:00.000000000",
          "2024-03-04T00:00:00.000000000",
          "2024-03-05T00:00:00.000000000",
          "2024-03-06T00:00:00.000000000",
          "2024-03-07T00:00:00.000000000",
          "2024-03-08T00:00:00.000000000",
          "2024-03-11T00:00:00.000000000",
          "2024-03-12T00:00:00.000000000",
          "2024-03-13T00:00:00.000000000",
          "2024-03-14T00:00:00.000000000",
          "2024-03-15T00:00:00.000000000",
          "2024-03-18T00:00:00.000000000",
          "2024-03-19T00:00:00.000000000",
          "2024-03-20T00:00:00.000000000",
          "2024-03-21T00:00:00.000000000",
          "2024-03-22T00:00:00.000000000",
          "2024-03-25T00:00:00.000000000",
          "2024-03-26T00:00:00.000000000",
          "2024-03-27T00:00:00.000000000",
          "2024-03-28T00:00:00.000000000",
          "2024-04-01T00:00:00.000000000",
          "2024-04-02T00:00:00.000000000",
          "2024-04-03T00:00:00.000000000",
          "2024-04-04T00:00:00.000000000",
          "2024-04-05T00:00:00.000000000",
          "2024-04-08T00:00:00.000000000",
          "2024-04-09T00:00:00.000000000",
          "2024-04-10T00:00:00.000000000",
          "2024-04-11T00:00:00.000000000",
          "2024-04-12T00:00:00.000000000",
          "2024-04-15T00:00:00.000000000",
          "2024-04-16T00:00:00.000000000",
          "2024-04-17T00:00:00.000000000",
          "2024-04-18T00:00:00.000000000",
          "2024-04-19T00:00:00.000000000",
          "2024-04-22T00:00:00.000000000",
          "2024-04-23T00:00:00.000000000",
          "2024-04-24T00:00:00.000000000",
          "2024-04-25T00:00:00.000000000",
          "2024-04-26T00:00:00.000000000",
          "2024-04-29T00:00:00.000000000",
          "2024-04-30T00:00:00.000000000",
          "2024-05-01T00:00:00.000000000",
          "2024-05-02T00:00:00.000000000",
          "2024-05-03T00:00:00.000000000",
          "2024-05-06T00:00:00.000000000",
          "2024-05-07T00:00:00.000000000",
          "2024-05-08T00:00:00.000000000",
          "2024-05-09T00:00:00.000000000",
          "2024-05-10T00:00:00.000000000",
          "2024-05-13T00:00:00.000000000",
          "2024-05-14T00:00:00.000000000",
          "2024-05-15T00:00:00.000000000",
          "2024-05-16T00:00:00.000000000",
          "2024-05-17T00:00:00.000000000",
          "2024-05-20T00:00:00.000000000",
          "2024-05-21T00:00:00.000000000",
          "2024-05-22T00:00:00.000000000",
          "2024-05-23T00:00:00.000000000",
          "2024-05-24T00:00:00.000000000",
          "2024-05-28T00:00:00.000000000",
          "2024-05-29T00:00:00.000000000",
          "2024-05-30T00:00:00.000000000",
          "2024-05-31T00:00:00.000000000",
          "2024-06-03T00:00:00.000000000",
          "2024-06-04T00:00:00.000000000",
          "2024-06-05T00:00:00.000000000",
          "2024-06-06T00:00:00.000000000",
          "2024-06-07T00:00:00.000000000",
          "2024-06-10T00:00:00.000000000",
          "2024-06-11T00:00:00.000000000",
          "2024-06-12T00:00:00.000000000",
          "2024-06-13T00:00:00.000000000",
          "2024-06-14T00:00:00.000000000",
          "2024-06-17T00:00:00.000000000",
          "2024-06-18T00:00:00.000000000",
          "2024-06-20T00:00:00.000000000",
          "2024-06-21T00:00:00.000000000",
          "2024-06-24T00:00:00.000000000",
          "2024-06-25T00:00:00.000000000",
          "2024-06-26T00:00:00.000000000",
          "2024-06-27T00:00:00.000000000",
          "2024-06-28T00:00:00.000000000",
          "2024-07-01T00:00:00.000000000",
          "2024-07-02T00:00:00.000000000",
          "2024-07-03T00:00:00.000000000",
          "2024-07-05T00:00:00.000000000",
          "2024-07-08T00:00:00.000000000",
          "2024-07-09T00:00:00.000000000",
          "2024-07-10T00:00:00.000000000",
          "2024-07-11T00:00:00.000000000",
          "2024-07-12T00:00:00.000000000",
          "2024-07-15T00:00:00.000000000",
          "2024-07-16T00:00:00.000000000",
          "2024-07-17T00:00:00.000000000",
          "2024-07-18T00:00:00.000000000",
          "2024-07-19T00:00:00.000000000",
          "2024-07-22T00:00:00.000000000",
          "2024-07-23T00:00:00.000000000",
          "2024-07-24T00:00:00.000000000",
          "2024-07-25T00:00:00.000000000",
          "2024-07-26T00:00:00.000000000",
          "2024-07-29T00:00:00.000000000",
          "2024-07-30T00:00:00.000000000",
          "2024-07-31T00:00:00.000000000",
          "2024-08-01T00:00:00.000000000",
          "2024-08-02T00:00:00.000000000",
          "2024-08-05T00:00:00.000000000",
          "2024-08-06T00:00:00.000000000",
          "2024-08-07T00:00:00.000000000",
          "2024-08-08T00:00:00.000000000",
          "2024-08-09T00:00:00.000000000",
          "2024-08-12T00:00:00.000000000",
          "2024-08-13T00:00:00.000000000",
          "2024-08-14T00:00:00.000000000",
          "2024-08-15T00:00:00.000000000",
          "2024-08-16T00:00:00.000000000",
          "2024-08-19T00:00:00.000000000",
          "2024-08-20T00:00:00.000000000",
          "2024-08-21T00:00:00.000000000",
          "2024-08-22T00:00:00.000000000",
          "2024-08-23T00:00:00.000000000",
          "2024-08-26T00:00:00.000000000",
          "2024-08-27T00:00:00.000000000",
          "2024-08-28T00:00:00.000000000",
          "2024-08-29T00:00:00.000000000",
          "2024-08-30T00:00:00.000000000",
          "2024-09-03T00:00:00.000000000",
          "2024-09-04T00:00:00.000000000",
          "2024-09-05T00:00:00.000000000",
          "2024-09-06T00:00:00.000000000",
          "2024-09-09T00:00:00.000000000",
          "2024-09-10T00:00:00.000000000",
          "2024-09-11T00:00:00.000000000",
          "2024-09-12T00:00:00.000000000",
          "2024-09-13T00:00:00.000000000",
          "2024-09-16T00:00:00.000000000",
          "2024-09-17T00:00:00.000000000",
          "2024-09-18T00:00:00.000000000",
          "2024-09-19T00:00:00.000000000",
          "2024-09-20T00:00:00.000000000",
          "2024-09-23T00:00:00.000000000",
          "2024-09-24T00:00:00.000000000",
          "2024-09-25T00:00:00.000000000",
          "2024-09-26T00:00:00.000000000",
          "2024-09-27T00:00:00.000000000",
          "2024-09-30T00:00:00.000000000",
          "2024-10-01T00:00:00.000000000",
          "2024-10-02T00:00:00.000000000",
          "2024-10-03T00:00:00.000000000",
          "2024-10-04T00:00:00.000000000",
          "2024-10-07T00:00:00.000000000",
          "2024-10-08T00:00:00.000000000",
          "2024-10-09T00:00:00.000000000",
          "2024-10-10T00:00:00.000000000",
          "2024-10-11T00:00:00.000000000",
          "2024-10-14T00:00:00.000000000",
          "2024-10-15T00:00:00.000000000",
          "2024-10-16T00:00:00.000000000",
          "2024-10-17T00:00:00.000000000",
          "2024-10-18T00:00:00.000000000",
          "2024-10-21T00:00:00.000000000",
          "2024-10-22T00:00:00.000000000",
          "2024-10-23T00:00:00.000000000",
          "2024-10-24T00:00:00.000000000",
          "2024-10-25T00:00:00.000000000",
          "2024-10-28T00:00:00.000000000",
          "2024-10-29T00:00:00.000000000",
          "2024-10-30T00:00:00.000000000",
          "2024-10-31T00:00:00.000000000",
          "2024-11-01T00:00:00.000000000",
          "2024-11-04T00:00:00.000000000",
          "2024-11-05T00:00:00.000000000",
          "2024-11-06T00:00:00.000000000",
          "2024-11-07T00:00:00.000000000",
          "2024-11-08T00:00:00.000000000",
          "2024-11-11T00:00:00.000000000",
          "2024-11-12T00:00:00.000000000",
          "2024-11-13T00:00:00.000000000",
          "2024-11-14T00:00:00.000000000",
          "2024-11-15T00:00:00.000000000",
          "2024-11-18T00:00:00.000000000",
          "2024-11-19T00:00:00.000000000",
          "2024-11-20T00:00:00.000000000",
          "2024-11-21T00:00:00.000000000",
          "2024-11-22T00:00:00.000000000",
          "2024-11-25T00:00:00.000000000",
          "2024-11-26T00:00:00.000000000",
          "2024-11-27T00:00:00.000000000",
          "2024-11-29T00:00:00.000000000",
          "2024-12-02T00:00:00.000000000",
          "2024-12-03T00:00:00.000000000",
          "2024-12-04T00:00:00.000000000",
          "2024-12-05T00:00:00.000000000",
          "2024-12-06T00:00:00.000000000",
          "2024-12-09T00:00:00.000000000",
          "2024-12-10T00:00:00.000000000",
          "2024-12-11T00:00:00.000000000",
          "2024-12-12T00:00:00.000000000",
          "2024-12-13T00:00:00.000000000",
          "2024-12-16T00:00:00.000000000",
          "2024-12-17T00:00:00.000000000",
          "2024-12-18T00:00:00.000000000",
          "2024-12-19T00:00:00.000000000",
          "2024-12-20T00:00:00.000000000",
          "2024-12-23T00:00:00.000000000",
          "2024-12-24T00:00:00.000000000",
          "2024-12-26T00:00:00.000000000",
          "2024-12-27T00:00:00.000000000",
          "2024-12-30T00:00:00.000000000",
          "2024-12-31T00:00:00.000000000",
          "2025-01-02T00:00:00.000000000",
          "2025-01-03T00:00:00.000000000",
          "2025-01-06T00:00:00.000000000",
          "2025-01-07T00:00:00.000000000",
          "2025-01-08T00:00:00.000000000",
          "2025-01-10T00:00:00.000000000",
          "2025-01-13T00:00:00.000000000",
          "2025-01-14T00:00:00.000000000",
          "2025-01-15T00:00:00.000000000",
          "2025-01-16T00:00:00.000000000",
          "2025-01-17T00:00:00.000000000",
          "2025-01-21T00:00:00.000000000",
          "2025-01-22T00:00:00.000000000",
          "2025-01-23T00:00:00.000000000",
          "2025-01-24T00:00:00.000000000",
          "2025-01-27T00:00:00.000000000",
          "2025-01-28T00:00:00.000000000",
          "2025-01-29T00:00:00.000000000",
          "2025-01-30T00:00:00.000000000",
          "2025-01-31T00:00:00.000000000",
          "2025-02-03T00:00:00.000000000",
          "2025-02-04T00:00:00.000000000",
          "2025-02-05T00:00:00.000000000",
          "2025-02-06T00:00:00.000000000",
          "2025-02-07T00:00:00.000000000",
          "2025-02-10T00:00:00.000000000",
          "2025-02-11T00:00:00.000000000",
          "2025-02-12T00:00:00.000000000",
          "2025-02-13T00:00:00.000000000",
          "2025-02-14T00:00:00.000000000",
          "2025-02-18T00:00:00.000000000",
          "2025-02-19T00:00:00.000000000",
          "2025-02-20T00:00:00.000000000",
          "2025-02-21T00:00:00.000000000",
          "2025-02-24T00:00:00.000000000",
          "2025-02-25T00:00:00.000000000",
          "2025-02-26T00:00:00.000000000",
          "2025-02-27T00:00:00.000000000",
          "2025-02-28T00:00:00.000000000",
          "2025-03-03T00:00:00.000000000",
          "2025-03-04T00:00:00.000000000",
          "2025-03-05T00:00:00.000000000",
          "2025-03-06T00:00:00.000000000",
          "2025-03-07T00:00:00.000000000",
          "2025-03-10T00:00:00.000000000",
          "2025-03-11T00:00:00.000000000",
          "2025-03-12T00:00:00.000000000",
          "2025-03-13T00:00:00.000000000",
          "2025-03-14T00:00:00.000000000",
          "2025-03-17T00:00:00.000000000",
          "2025-03-18T00:00:00.000000000",
          "2025-03-19T00:00:00.000000000",
          "2025-03-20T00:00:00.000000000",
          "2025-03-21T00:00:00.000000000",
          "2025-03-24T00:00:00.000000000"
         ],
         "xaxis": "x",
         "y": {
          "bdata": "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",
          "dtype": "f8"
         },
         "yaxis": "y"
        },
        {
         "hovertemplate": "Type=Prediction<br>Date=%{x}<br>Price=%{y}<extra></extra>",
         "legendgroup": "Prediction",
         "line": {
          "color": "#EF553B",
          "dash": "solid"
         },
         "marker": {
          "symbol": "circle"
         },
         "mode": "lines",
         "name": "Prediction",
         "orientation": "v",
         "showlegend": true,
         "type": "scatter",
         "x": [
          "2023-04-11T00:00:00.000000000",
          "2023-04-12T00:00:00.000000000",
          "2023-04-13T00:00:00.000000000",
          "2023-04-14T00:00:00.000000000",
          "2023-04-17T00:00:00.000000000",
          "2023-04-18T00:00:00.000000000",
          "2023-04-19T00:00:00.000000000",
          "2023-04-20T00:00:00.000000000",
          "2023-04-21T00:00:00.000000000",
          "2023-04-24T00:00:00.000000000",
          "2023-04-25T00:00:00.000000000",
          "2023-04-26T00:00:00.000000000",
          "2023-04-27T00:00:00.000000000",
          "2023-04-28T00:00:00.000000000",
          "2023-05-01T00:00:00.000000000",
          "2023-05-02T00:00:00.000000000",
          "2023-05-03T00:00:00.000000000",
          "2023-05-04T00:00:00.000000000",
          "2023-05-05T00:00:00.000000000",
          "2023-05-08T00:00:00.000000000",
          "2023-05-09T00:00:00.000000000",
          "2023-05-10T00:00:00.000000000",
          "2023-05-11T00:00:00.000000000",
          "2023-05-12T00:00:00.000000000",
          "2023-05-15T00:00:00.000000000",
          "2023-05-16T00:00:00.000000000",
          "2023-05-17T00:00:00.000000000",
          "2023-05-18T00:00:00.000000000",
          "2023-05-19T00:00:00.000000000",
          "2023-05-22T00:00:00.000000000",
          "2023-05-23T00:00:00.000000000",
          "2023-05-24T00:00:00.000000000",
          "2023-05-25T00:00:00.000000000",
          "2023-05-26T00:00:00.000000000",
          "2023-05-30T00:00:00.000000000",
          "2023-05-31T00:00:00.000000000",
          "2023-06-01T00:00:00.000000000",
          "2023-06-02T00:00:00.000000000",
          "2023-06-05T00:00:00.000000000",
          "2023-06-06T00:00:00.000000000",
          "2023-06-07T00:00:00.000000000",
          "2023-06-08T00:00:00.000000000",
          "2023-06-09T00:00:00.000000000",
          "2023-06-12T00:00:00.000000000",
          "2023-06-13T00:00:00.000000000",
          "2023-06-14T00:00:00.000000000",
          "2023-06-15T00:00:00.000000000",
          "2023-06-16T00:00:00.000000000",
          "2023-06-20T00:00:00.000000000",
          "2023-06-21T00:00:00.000000000",
          "2023-06-22T00:00:00.000000000",
          "2023-06-23T00:00:00.000000000",
          "2023-06-26T00:00:00.000000000",
          "2023-06-27T00:00:00.000000000",
          "2023-06-28T00:00:00.000000000",
          "2023-06-29T00:00:00.000000000",
          "2023-06-30T00:00:00.000000000",
          "2023-07-03T00:00:00.000000000",
          "2023-07-05T00:00:00.000000000",
          "2023-07-06T00:00:00.000000000",
          "2023-07-07T00:00:00.000000000",
          "2023-07-10T00:00:00.000000000",
          "2023-07-11T00:00:00.000000000",
          "2023-07-12T00:00:00.000000000",
          "2023-07-13T00:00:00.000000000",
          "2023-07-14T00:00:00.000000000",
          "2023-07-17T00:00:00.000000000",
          "2023-07-18T00:00:00.000000000",
          "2023-07-19T00:00:00.000000000",
          "2023-07-20T00:00:00.000000000",
          "2023-07-21T00:00:00.000000000",
          "2023-07-24T00:00:00.000000000",
          "2023-07-25T00:00:00.000000000",
          "2023-07-26T00:00:00.000000000",
          "2023-07-27T00:00:00.000000000",
          "2023-07-28T00:00:00.000000000",
          "2023-07-31T00:00:00.000000000",
          "2023-08-01T00:00:00.000000000",
          "2023-08-02T00:00:00.000000000",
          "2023-08-03T00:00:00.000000000",
          "2023-08-04T00:00:00.000000000",
          "2023-08-07T00:00:00.000000000",
          "2023-08-08T00:00:00.000000000",
          "2023-08-09T00:00:00.000000000",
          "2023-08-10T00:00:00.000000000",
          "2023-08-11T00:00:00.000000000",
          "2023-08-14T00:00:00.000000000",
          "2023-08-15T00:00:00.000000000",
          "2023-08-16T00:00:00.000000000",
          "2023-08-17T00:00:00.000000000",
          "2023-08-18T00:00:00.000000000",
          "2023-08-21T00:00:00.000000000",
          "2023-08-22T00:00:00.000000000",
          "2023-08-23T00:00:00.000000000",
          "2023-08-24T00:00:00.000000000",
          "2023-08-25T00:00:00.000000000",
          "2023-08-28T00:00:00.000000000",
          "2023-08-29T00:00:00.000000000",
          "2023-08-30T00:00:00.000000000",
          "2023-08-31T00:00:00.000000000",
          "2023-09-01T00:00:00.000000000",
          "2023-09-05T00:00:00.000000000",
          "2023-09-06T00:00:00.000000000",
          "2023-09-07T00:00:00.000000000",
          "2023-09-08T00:00:00.000000000",
          "2023-09-11T00:00:00.000000000",
          "2023-09-12T00:00:00.000000000",
          "2023-09-13T00:00:00.000000000",
          "2023-09-14T00:00:00.000000000",
          "2023-09-15T00:00:00.000000000",
          "2023-09-18T00:00:00.000000000",
          "2023-09-19T00:00:00.000000000",
          "2023-09-20T00:00:00.000000000",
          "2023-09-21T00:00:00.000000000",
          "2023-09-22T00:00:00.000000000",
          "2023-09-25T00:00:00.000000000",
          "2023-09-26T00:00:00.000000000",
          "2023-09-27T00:00:00.000000000",
          "2023-09-28T00:00:00.000000000",
          "2023-09-29T00:00:00.000000000",
          "2023-10-02T00:00:00.000000000",
          "2023-10-03T00:00:00.000000000",
          "2023-10-04T00:00:00.000000000",
          "2023-10-05T00:00:00.000000000",
          "2023-10-06T00:00:00.000000000",
          "2023-10-09T00:00:00.000000000",
          "2023-10-10T00:00:00.000000000",
          "2023-10-11T00:00:00.000000000",
          "2023-10-12T00:00:00.000000000",
          "2023-10-13T00:00:00.000000000",
          "2023-10-16T00:00:00.000000000",
          "2023-10-17T00:00:00.000000000",
          "2023-10-18T00:00:00.000000000",
          "2023-10-19T00:00:00.000000000",
          "2023-10-20T00:00:00.000000000",
          "2023-10-23T00:00:00.000000000",
          "2023-10-24T00:00:00.000000000",
          "2023-10-25T00:00:00.000000000",
          "2023-10-26T00:00:00.000000000",
          "2023-10-27T00:00:00.000000000",
          "2023-10-30T00:00:00.000000000",
          "2023-10-31T00:00:00.000000000",
          "2023-11-01T00:00:00.000000000",
          "2023-11-02T00:00:00.000000000",
          "2023-11-03T00:00:00.000000000",
          "2023-11-06T00:00:00.000000000",
          "2023-11-07T00:00:00.000000000",
          "2023-11-08T00:00:00.000000000",
          "2023-11-09T00:00:00.000000000",
          "2023-11-10T00:00:00.000000000",
          "2023-11-13T00:00:00.000000000",
          "2023-11-14T00:00:00.000000000",
          "2023-11-15T00:00:00.000000000",
          "2023-11-16T00:00:00.000000000",
          "2023-11-17T00:00:00.000000000",
          "2023-11-20T00:00:00.000000000",
          "2023-11-21T00:00:00.000000000",
          "2023-11-22T00:00:00.000000000",
          "2023-11-24T00:00:00.000000000",
          "2023-11-27T00:00:00.000000000",
          "2023-11-28T00:00:00.000000000",
          "2023-11-29T00:00:00.000000000",
          "2023-11-30T00:00:00.000000000",
          "2023-12-01T00:00:00.000000000",
          "2023-12-04T00:00:00.000000000",
          "2023-12-05T00:00:00.000000000",
          "2023-12-06T00:00:00.000000000",
          "2023-12-07T00:00:00.000000000",
          "2023-12-08T00:00:00.000000000",
          "2023-12-11T00:00:00.000000000",
          "2023-12-12T00:00:00.000000000",
          "2023-12-13T00:00:00.000000000",
          "2023-12-14T00:00:00.000000000",
          "2023-12-15T00:00:00.000000000",
          "2023-12-18T00:00:00.000000000",
          "2023-12-19T00:00:00.000000000",
          "2023-12-20T00:00:00.000000000",
          "2023-12-21T00:00:00.000000000",
          "2023-12-22T00:00:00.000000000",
          "2023-12-26T00:00:00.000000000",
          "2023-12-27T00:00:00.000000000",
          "2023-12-28T00:00:00.000000000",
          "2023-12-29T00:00:00.000000000",
          "2024-01-02T00:00:00.000000000",
          "2024-01-03T00:00:00.000000000",
          "2024-01-04T00:00:00.000000000",
          "2024-01-05T00:00:00.000000000",
          "2024-01-08T00:00:00.000000000",
          "2024-01-09T00:00:00.000000000",
          "2024-01-10T00:00:00.000000000",
          "2024-01-11T00:00:00.000000000",
          "2024-01-12T00:00:00.000000000",
          "2024-01-16T00:00:00.000000000",
          "2024-01-17T00:00:00.000000000",
          "2024-01-18T00:00:00.000000000",
          "2024-01-19T00:00:00.000000000",
          "2024-01-22T00:00:00.000000000",
          "2024-01-23T00:00:00.000000000",
          "2024-01-24T00:00:00.000000000",
          "2024-01-25T00:00:00.000000000",
          "2024-01-26T00:00:00.000000000",
          "2024-01-29T00:00:00.000000000",
          "2024-01-30T00:00:00.000000000",
          "2024-01-31T00:00:00.000000000",
          "2024-02-01T00:00:00.000000000",
          "2024-02-02T00:00:00.000000000",
          "2024-02-05T00:00:00.000000000",
          "2024-02-06T00:00:00.000000000",
          "2024-02-07T00:00:00.000000000",
          "2024-02-08T00:00:00.000000000",
          "2024-02-09T00:00:00.000000000",
          "2024-02-12T00:00:00.000000000",
          "2024-02-13T00:00:00.000000000",
          "2024-02-14T00:00:00.000000000",
          "2024-02-15T00:00:00.000000000",
          "2024-02-16T00:00:00.000000000",
          "2024-02-20T00:00:00.000000000",
          "2024-02-21T00:00:00.000000000",
          "2024-02-22T00:00:00.000000000",
          "2024-02-23T00:00:00.000000000",
          "2024-02-26T00:00:00.000000000",
          "2024-02-27T00:00:00.000000000",
          "2024-02-28T00:00:00.000000000",
          "2024-02-29T00:00:00.000000000",
          "2024-03-01T00:00:00.000000000",
          "2024-03-04T00:00:00.000000000",
          "2024-03-05T00:00:00.000000000",
          "2024-03-06T00:00:00.000000000",
          "2024-03-07T00:00:00.000000000",
          "2024-03-08T00:00:00.000000000",
          "2024-03-11T00:00:00.000000000",
          "2024-03-12T00:00:00.000000000",
          "2024-03-13T00:00:00.000000000",
          "2024-03-14T00:00:00.000000000",
          "2024-03-15T00:00:00.000000000",
          "2024-03-18T00:00:00.000000000",
          "2024-03-19T00:00:00.000000000",
          "2024-03-20T00:00:00.000000000",
          "2024-03-21T00:00:00.000000000",
          "2024-03-22T00:00:00.000000000",
          "2024-03-25T00:00:00.000000000",
          "2024-03-26T00:00:00.000000000",
          "2024-03-27T00:00:00.000000000",
          "2024-03-28T00:00:00.000000000",
          "2024-04-01T00:00:00.000000000",
          "2024-04-02T00:00:00.000000000",
          "2024-04-03T00:00:00.000000000",
          "2024-04-04T00:00:00.000000000",
          "2024-04-05T00:00:00.000000000",
          "2024-04-08T00:00:00.000000000",
          "2024-04-09T00:00:00.000000000",
          "2024-04-10T00:00:00.000000000",
          "2024-04-11T00:00:00.000000000",
          "2024-04-12T00:00:00.000000000",
          "2024-04-15T00:00:00.000000000",
          "2024-04-16T00:00:00.000000000",
          "2024-04-17T00:00:00.000000000",
          "2024-04-18T00:00:00.000000000",
          "2024-04-19T00:00:00.000000000",
          "2024-04-22T00:00:00.000000000",
          "2024-04-23T00:00:00.000000000",
          "2024-04-24T00:00:00.000000000",
          "2024-04-25T00:00:00.000000000",
          "2024-04-26T00:00:00.000000000",
          "2024-04-29T00:00:00.000000000",
          "2024-04-30T00:00:00.000000000",
          "2024-05-01T00:00:00.000000000",
          "2024-05-02T00:00:00.000000000",
          "2024-05-03T00:00:00.000000000",
          "2024-05-06T00:00:00.000000000",
          "2024-05-07T00:00:00.000000000",
          "2024-05-08T00:00:00.000000000",
          "2024-05-09T00:00:00.000000000",
          "2024-05-10T00:00:00.000000000",
          "2024-05-13T00:00:00.000000000",
          "2024-05-14T00:00:00.000000000",
          "2024-05-15T00:00:00.000000000",
          "2024-05-16T00:00:00.000000000",
          "2024-05-17T00:00:00.000000000",
          "2024-05-20T00:00:00.000000000",
          "2024-05-21T00:00:00.000000000",
          "2024-05-22T00:00:00.000000000",
          "2024-05-23T00:00:00.000000000",
          "2024-05-24T00:00:00.000000000",
          "2024-05-28T00:00:00.000000000",
          "2024-05-29T00:00:00.000000000",
          "2024-05-30T00:00:00.000000000",
          "2024-05-31T00:00:00.000000000",
          "2024-06-03T00:00:00.000000000",
          "2024-06-04T00:00:00.000000000",
          "2024-06-05T00:00:00.000000000",
          "2024-06-06T00:00:00.000000000",
          "2024-06-07T00:00:00.000000000",
          "2024-06-10T00:00:00.000000000",
          "2024-06-11T00:00:00.000000000",
          "2024-06-12T00:00:00.000000000",
          "2024-06-13T00:00:00.000000000",
          "2024-06-14T00:00:00.000000000",
          "2024-06-17T00:00:00.000000000",
          "2024-06-18T00:00:00.000000000",
          "2024-06-20T00:00:00.000000000",
          "2024-06-21T00:00:00.000000000",
          "2024-06-24T00:00:00.000000000",
          "2024-06-25T00:00:00.000000000",
          "2024-06-26T00:00:00.000000000",
          "2024-06-27T00:00:00.000000000",
          "2024-06-28T00:00:00.000000000",
          "2024-07-01T00:00:00.000000000",
          "2024-07-02T00:00:00.000000000",
          "2024-07-03T00:00:00.000000000",
          "2024-07-05T00:00:00.000000000",
          "2024-07-08T00:00:00.000000000",
          "2024-07-09T00:00:00.000000000",
          "2024-07-10T00:00:00.000000000",
          "2024-07-11T00:00:00.000000000",
          "2024-07-12T00:00:00.000000000",
          "2024-07-15T00:00:00.000000000",
          "2024-07-16T00:00:00.000000000",
          "2024-07-17T00:00:00.000000000",
          "2024-07-18T00:00:00.000000000",
          "2024-07-19T00:00:00.000000000",
          "2024-07-22T00:00:00.000000000",
          "2024-07-23T00:00:00.000000000",
          "2024-07-24T00:00:00.000000000",
          "2024-07-25T00:00:00.000000000",
          "2024-07-26T00:00:00.000000000",
          "2024-07-29T00:00:00.000000000",
          "2024-07-30T00:00:00.000000000",
          "2024-07-31T00:00:00.000000000",
          "2024-08-01T00:00:00.000000000",
          "2024-08-02T00:00:00.000000000",
          "2024-08-05T00:00:00.000000000",
          "2024-08-06T00:00:00.000000000",
          "2024-08-07T00:00:00.000000000",
          "2024-08-08T00:00:00.000000000",
          "2024-08-09T00:00:00.000000000",
          "2024-08-12T00:00:00.000000000",
          "2024-08-13T00:00:00.000000000",
          "2024-08-14T00:00:00.000000000",
          "2024-08-15T00:00:00.000000000",
          "2024-08-16T00:00:00.000000000",
          "2024-08-19T00:00:00.000000000",
          "2024-08-20T00:00:00.000000000",
          "2024-08-21T00:00:00.000000000",
          "2024-08-22T00:00:00.000000000",
          "2024-08-23T00:00:00.000000000",
          "2024-08-26T00:00:00.000000000",
          "2024-08-27T00:00:00.000000000",
          "2024-08-28T00:00:00.000000000",
          "2024-08-29T00:00:00.000000000",
          "2024-08-30T00:00:00.000000000",
          "2024-09-03T00:00:00.000000000",
          "2024-09-04T00:00:00.000000000",
          "2024-09-05T00:00:00.000000000",
          "2024-09-06T00:00:00.000000000",
          "2024-09-09T00:00:00.000000000",
          "2024-09-10T00:00:00.000000000",
          "2024-09-11T00:00:00.000000000",
          "2024-09-12T00:00:00.000000000",
          "2024-09-13T00:00:00.000000000",
          "2024-09-16T00:00:00.000000000",
          "2024-09-17T00:00:00.000000000",
          "2024-09-18T00:00:00.000000000",
          "2024-09-19T00:00:00.000000000",
          "2024-09-20T00:00:00.000000000",
          "2024-09-23T00:00:00.000000000",
          "2024-09-24T00:00:00.000000000",
          "2024-09-25T00:00:00.000000000",
          "2024-09-26T00:00:00.000000000",
          "2024-09-27T00:00:00.000000000",
          "2024-09-30T00:00:00.000000000",
          "2024-10-01T00:00:00.000000000",
          "2024-10-02T00:00:00.000000000",
          "2024-10-03T00:00:00.000000000",
          "2024-10-04T00:00:00.000000000",
          "2024-10-07T00:00:00.000000000",
          "2024-10-08T00:00:00.000000000",
          "2024-10-09T00:00:00.000000000",
          "2024-10-10T00:00:00.000000000",
          "2024-10-11T00:00:00.000000000",
          "2024-10-14T00:00:00.000000000",
          "2024-10-15T00:00:00.000000000",
          "2024-10-16T00:00:00.000000000",
          "2024-10-17T00:00:00.000000000",
          "2024-10-18T00:00:00.000000000",
          "2024-10-21T00:00:00.000000000",
          "2024-10-22T00:00:00.000000000",
          "2024-10-23T00:00:00.000000000",
          "2024-10-24T00:00:00.000000000",
          "2024-10-25T00:00:00.000000000",
          "2024-10-28T00:00:00.000000000",
          "2024-10-29T00:00:00.000000000",
          "2024-10-30T00:00:00.000000000",
          "2024-10-31T00:00:00.000000000",
          "2024-11-01T00:00:00.000000000",
          "2024-11-04T00:00:00.000000000",
          "2024-11-05T00:00:00.000000000",
          "2024-11-06T00:00:00.000000000",
          "2024-11-07T00:00:00.000000000",
          "2024-11-08T00:00:00.000000000",
          "2024-11-11T00:00:00.000000000",
          "2024-11-12T00:00:00.000000000",
          "2024-11-13T00:00:00.000000000",
          "2024-11-14T00:00:00.000000000",
          "2024-11-15T00:00:00.000000000",
          "2024-11-18T00:00:00.000000000",
          "2024-11-19T00:00:00.000000000",
          "2024-11-20T00:00:00.000000000",
          "2024-11-21T00:00:00.000000000",
          "2024-11-22T00:00:00.000000000",
          "2024-11-25T00:00:00.000000000",
          "2024-11-26T00:00:00.000000000",
          "2024-11-27T00:00:00.000000000",
          "2024-11-29T00:00:00.000000000",
          "2024-12-02T00:00:00.000000000",
          "2024-12-03T00:00:00.000000000",
          "2024-12-04T00:00:00.000000000",
          "2024-12-05T00:00:00.000000000",
          "2024-12-06T00:00:00.000000000",
          "2024-12-09T00:00:00.000000000",
          "2024-12-10T00:00:00.000000000",
          "2024-12-11T00:00:00.000000000",
          "2024-12-12T00:00:00.000000000",
          "2024-12-13T00:00:00.000000000",
          "2024-12-16T00:00:00.000000000",
          "2024-12-17T00:00:00.000000000",
          "2024-12-18T00:00:00.000000000",
          "2024-12-19T00:00:00.000000000",
          "2024-12-20T00:00:00.000000000",
          "2024-12-23T00:00:00.000000000",
          "2024-12-24T00:00:00.000000000",
          "2024-12-26T00:00:00.000000000",
          "2024-12-27T00:00:00.000000000",
          "2024-12-30T00:00:00.000000000",
          "2024-12-31T00:00:00.000000000",
          "2025-01-02T00:00:00.000000000",
          "2025-01-03T00:00:00.000000000",
          "2025-01-06T00:00:00.000000000",
          "2025-01-07T00:00:00.000000000",
          "2025-01-08T00:00:00.000000000",
          "2025-01-10T00:00:00.000000000",
          "2025-01-13T00:00:00.000000000",
          "2025-01-14T00:00:00.000000000",
          "2025-01-15T00:00:00.000000000",
          "2025-01-16T00:00:00.000000000",
          "2025-01-17T00:00:00.000000000",
          "2025-01-21T00:00:00.000000000",
          "2025-01-22T00:00:00.000000000",
          "2025-01-23T00:00:00.000000000",
          "2025-01-24T00:00:00.000000000",
          "2025-01-27T00:00:00.000000000",
          "2025-01-28T00:00:00.000000000",
          "2025-01-29T00:00:00.000000000",
          "2025-01-30T00:00:00.000000000",
          "2025-01-31T00:00:00.000000000",
          "2025-02-03T00:00:00.000000000",
          "2025-02-04T00:00:00.000000000",
          "2025-02-05T00:00:00.000000000",
          "2025-02-06T00:00:00.000000000",
          "2025-02-07T00:00:00.000000000",
          "2025-02-10T00:00:00.000000000",
          "2025-02-11T00:00:00.000000000",
          "2025-02-12T00:00:00.000000000",
          "2025-02-13T00:00:00.000000000",
          "2025-02-14T00:00:00.000000000",
          "2025-02-18T00:00:00.000000000",
          "2025-02-19T00:00:00.000000000",
          "2025-02-20T00:00:00.000000000",
          "2025-02-21T00:00:00.000000000",
          "2025-02-24T00:00:00.000000000",
          "2025-02-25T00:00:00.000000000",
          "2025-02-26T00:00:00.000000000",
          "2025-02-27T00:00:00.000000000",
          "2025-02-28T00:00:00.000000000",
          "2025-03-03T00:00:00.000000000",
          "2025-03-04T00:00:00.000000000",
          "2025-03-05T00:00:00.000000000",
          "2025-03-06T00:00:00.000000000",
          "2025-03-07T00:00:00.000000000",
          "2025-03-10T00:00:00.000000000",
          "2025-03-11T00:00:00.000000000",
          "2025-03-12T00:00:00.000000000",
          "2025-03-13T00:00:00.000000000",
          "2025-03-14T00:00:00.000000000",
          "2025-03-17T00:00:00.000000000",
          "2025-03-18T00:00:00.000000000",
          "2025-03-19T00:00:00.000000000",
          "2025-03-20T00:00:00.000000000",
          "2025-03-21T00:00:00.000000000",
          "2025-03-24T00:00:00.000000000"
         ],
         "xaxis": "x",
         "y": {
          "bdata": "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",
          "dtype": "f8"
         },
         "yaxis": "y"
        }
       ],
       "layout": {
        "legend": {
         "title": {
          "text": "Type"
         },
         "tracegroupgap": 0
        },
        "template": {
         "data": {
          "bar": [
           {
            "error_x": {
             "color": "#2a3f5f"
            },
            "error_y": {
             "color": "#2a3f5f"
            },
            "marker": {
             "line": {
              "color": "white",
              "width": 0.5
             },
             "pattern": {
              "fillmode": "overlay",
              "size": 10,
              "solidity": 0.2
             }
            },
            "type": "bar"
           }
          ],
          "barpolar": [
           {
            "marker": {
             "line": {
              "color": "white",
              "width": 0.5
             },
             "pattern": {
              "fillmode": "overlay",
              "size": 10,
              "solidity": 0.2
             }
            },
            "type": "barpolar"
           }
          ],
          "carpet": [
           {
            "aaxis": {
             "endlinecolor": "#2a3f5f",
             "gridcolor": "#C8D4E3",
             "linecolor": "#C8D4E3",
             "minorgridcolor": "#C8D4E3",
             "startlinecolor": "#2a3f5f"
            },
            "baxis": {
             "endlinecolor": "#2a3f5f",
             "gridcolor": "#C8D4E3",
             "linecolor": "#C8D4E3",
             "minorgridcolor": "#C8D4E3",
             "startlinecolor": "#2a3f5f"
            },
            "type": "carpet"
           }
          ],
          "choropleth": [
           {
            "colorbar": {
             "outlinewidth": 0,
             "ticks": ""
            },
            "type": "choropleth"
           }
          ],
          "contour": [
           {
            "colorbar": {
             "outlinewidth": 0,
             "ticks": ""
            },
            "colorscale": [
             [
              0,
              "#0d0887"
             ],
             [
              0.1111111111111111,
              "#46039f"
             ],
             [
              0.2222222222222222,
              "#7201a8"
             ],
             [
              0.3333333333333333,
              "#9c179e"
             ],
             [
              0.4444444444444444,
              "#bd3786"
             ],
             [
              0.5555555555555556,
              "#d8576b"
             ],
             [
              0.6666666666666666,
              "#ed7953"
             ],
             [
              0.7777777777777778,
              "#fb9f3a"
             ],
             [
              0.8888888888888888,
              "#fdca26"
             ],
             [
              1,
              "#f0f921"
             ]
            ],
            "type": "contour"
           }
          ],
          "contourcarpet": [
           {
            "colorbar": {
             "outlinewidth": 0,
             "ticks": ""
            },
            "type": "contourcarpet"
           }
          ],
          "heatmap": [
           {
            "colorbar": {
             "outlinewidth": 0,
             "ticks": ""
            },
            "colorscale": [
             [
              0,
              "#0d0887"
             ],
             [
              0.1111111111111111,
              "#46039f"
             ],
             [
              0.2222222222222222,
              "#7201a8"
             ],
             [
              0.3333333333333333,
              "#9c179e"
             ],
             [
              0.4444444444444444,
              "#bd3786"
             ],
             [
              0.5555555555555556,
              "#d8576b"
             ],
             [
              0.6666666666666666,
              "#ed7953"
             ],
             [
              0.7777777777777778,
              "#fb9f3a"
             ],
             [
              0.8888888888888888,
              "#fdca26"
             ],
             [
              1,
              "#f0f921"
             ]
            ],
            "type": "heatmap"
           }
          ],
          "histogram": [
           {
            "marker": {
             "pattern": {
              "fillmode": "overlay",
              "size": 10,
              "solidity": 0.2
             }
            },
            "type": "histogram"
           }
          ],
          "histogram2d": [
           {
            "colorbar": {
             "outlinewidth": 0,
             "ticks": ""
            },
            "colorscale": [
             [
              0,
              "#0d0887"
             ],
             [
              0.1111111111111111,
              "#46039f"
             ],
             [
              0.2222222222222222,
              "#7201a8"
             ],
             [
              0.3333333333333333,
              "#9c179e"
             ],
             [
              0.4444444444444444,
              "#bd3786"
             ],
             [
              0.5555555555555556,
              "#d8576b"
             ],
             [
              0.6666666666666666,
              "#ed7953"
             ],
             [
              0.7777777777777778,
              "#fb9f3a"
             ],
             [
              0.8888888888888888,
              "#fdca26"
             ],
             [
              1,
              "#f0f921"
             ]
            ],
            "type": "histogram2d"
           }
          ],
          "histogram2dcontour": [
           {
            "colorbar": {
             "outlinewidth": 0,
             "ticks": ""
            },
            "colorscale": [
             [
              0,
              "#0d0887"
             ],
             [
              0.1111111111111111,
              "#46039f"
             ],
             [
              0.2222222222222222,
              "#7201a8"
             ],
             [
              0.3333333333333333,
              "#9c179e"
             ],
             [
              0.4444444444444444,
              "#bd3786"
             ],
             [
              0.5555555555555556,
              "#d8576b"
             ],
             [
              0.6666666666666666,
              "#ed7953"
             ],
             [
              0.7777777777777778,
              "#fb9f3a"
             ],
             [
              0.8888888888888888,
              "#fdca26"
             ],
             [
              1,
              "#f0f921"
             ]
            ],
            "type": "histogram2dcontour"
           }
          ],
          "mesh3d": [
           {
            "colorbar": {
             "outlinewidth": 0,
             "ticks": ""
            },
            "type": "mesh3d"
           }
          ],
          "parcoords": [
           {
            "line": {
             "colorbar": {
              "outlinewidth": 0,
              "ticks": ""
             }
            },
            "type": "parcoords"
           }
          ],
          "pie": [
           {
            "automargin": true,
            "type": "pie"
           }
          ],
          "scatter": [
           {
            "fillpattern": {
             "fillmode": "overlay",
             "size": 10,
             "solidity": 0.2
            },
            "type": "scatter"
           }
          ],
          "scatter3d": [
           {
            "line": {
             "colorbar": {
              "outlinewidth": 0,
              "ticks": ""
             }
            },
            "marker": {
             "colorbar": {
              "outlinewidth": 0,
              "ticks": ""
             }
            },
            "type": "scatter3d"
           }
          ],
          "scattercarpet": [
           {
            "marker": {
             "colorbar": {
              "outlinewidth": 0,
              "ticks": ""
             }
            },
            "type": "scattercarpet"
           }
          ],
          "scattergeo": [
           {
            "marker": {
             "colorbar": {
              "outlinewidth": 0,
              "ticks": ""
             }
            },
            "type": "scattergeo"
           }
          ],
          "scattergl": [
           {
            "marker": {
             "colorbar": {
              "outlinewidth": 0,
              "ticks": ""
             }
            },
            "type": "scattergl"
           }
          ],
          "scattermap": [
           {
            "marker": {
             "colorbar": {
              "outlinewidth": 0,
              "ticks": ""
             }
            },
            "type": "scattermap"
           }
          ],
          "scattermapbox": [
           {
            "marker": {
             "colorbar": {
              "outlinewidth": 0,
              "ticks": ""
             }
            },
            "type": "scattermapbox"
           }
          ],
          "scatterpolar": [
           {
            "marker": {
             "colorbar": {
              "outlinewidth": 0,
              "ticks": ""
             }
            },
            "type": "scatterpolar"
           }
          ],
          "scatterpolargl": [
           {
            "marker": {
             "colorbar": {
              "outlinewidth": 0,
              "ticks": ""
             }
            },
            "type": "scatterpolargl"
           }
          ],
          "scatterternary": [
           {
            "marker": {
             "colorbar": {
              "outlinewidth": 0,
              "ticks": ""
             }
            },
            "type": "scatterternary"
           }
          ],
          "surface": [
           {
            "colorbar": {
             "outlinewidth": 0,
             "ticks": ""
            },
            "colorscale": [
             [
              0,
              "#0d0887"
             ],
             [
              0.1111111111111111,
              "#46039f"
             ],
             [
              0.2222222222222222,
              "#7201a8"
             ],
             [
              0.3333333333333333,
              "#9c179e"
             ],
             [
              0.4444444444444444,
              "#bd3786"
             ],
             [
              0.5555555555555556,
              "#d8576b"
             ],
             [
              0.6666666666666666,
              "#ed7953"
             ],
             [
              0.7777777777777778,
              "#fb9f3a"
             ],
             [
              0.8888888888888888,
              "#fdca26"
             ],
             [
              1,
              "#f0f921"
             ]
            ],
            "type": "surface"
           }
          ],
          "table": [
           {
            "cells": {
             "fill": {
              "color": "#EBF0F8"
             },
             "line": {
              "color": "white"
             }
            },
            "header": {
             "fill": {
              "color": "#C8D4E3"
             },
             "line": {
              "color": "white"
             }
            },
            "type": "table"
           }
          ]
         },
         "layout": {
          "annotationdefaults": {
           "arrowcolor": "#2a3f5f",
           "arrowhead": 0,
           "arrowwidth": 1
          },
          "autotypenumbers": "strict",
          "coloraxis": {
           "colorbar": {
            "outlinewidth": 0,
            "ticks": ""
           }
          },
          "colorscale": {
           "diverging": [
            [
             0,
             "#8e0152"
            ],
            [
             0.1,
             "#c51b7d"
            ],
            [
             0.2,
             "#de77ae"
            ],
            [
             0.3,
             "#f1b6da"
            ],
            [
             0.4,
             "#fde0ef"
            ],
            [
             0.5,
             "#f7f7f7"
            ],
            [
             0.6,
             "#e6f5d0"
            ],
            [
             0.7,
             "#b8e186"
            ],
            [
             0.8,
             "#7fbc41"
            ],
            [
             0.9,
             "#4d9221"
            ],
            [
             1,
             "#276419"
            ]
           ],
           "sequential": [
            [
             0,
             "#0d0887"
            ],
            [
             0.1111111111111111,
             "#46039f"
            ],
            [
             0.2222222222222222,
             "#7201a8"
            ],
            [
             0.3333333333333333,
             "#9c179e"
            ],
            [
             0.4444444444444444,
             "#bd3786"
            ],
            [
             0.5555555555555556,
             "#d8576b"
            ],
            [
             0.6666666666666666,
             "#ed7953"
            ],
            [
             0.7777777777777778,
             "#fb9f3a"
            ],
            [
             0.8888888888888888,
             "#fdca26"
            ],
            [
             1,
             "#f0f921"
            ]
           ],
           "sequentialminus": [
            [
             0,
             "#0d0887"
            ],
            [
             0.1111111111111111,
             "#46039f"
            ],
            [
             0.2222222222222222,
             "#7201a8"
            ],
            [
             0.3333333333333333,
             "#9c179e"
            ],
            [
             0.4444444444444444,
             "#bd3786"
            ],
            [
             0.5555555555555556,
             "#d8576b"
            ],
            [
             0.6666666666666666,
             "#ed7953"
            ],
            [
             0.7777777777777778,
             "#fb9f3a"
            ],
            [
             0.8888888888888888,
             "#fdca26"
            ],
            [
             1,
             "#f0f921"
            ]
           ]
          },
          "colorway": [
           "#636efa",
           "#EF553B",
           "#00cc96",
           "#ab63fa",
           "#FFA15A",
           "#19d3f3",
           "#FF6692",
           "#B6E880",
           "#FF97FF",
           "#FECB52"
          ],
          "font": {
           "color": "#2a3f5f"
          },
          "geo": {
           "bgcolor": "white",
           "lakecolor": "white",
           "landcolor": "white",
           "showlakes": true,
           "showland": true,
           "subunitcolor": "#C8D4E3"
          },
          "hoverlabel": {
           "align": "left"
          },
          "hovermode": "closest",
          "mapbox": {
           "style": "light"
          },
          "paper_bgcolor": "white",
          "plot_bgcolor": "white",
          "polar": {
           "angularaxis": {
            "gridcolor": "#EBF0F8",
            "linecolor": "#EBF0F8",
            "ticks": ""
           },
           "bgcolor": "white",
           "radialaxis": {
            "gridcolor": "#EBF0F8",
            "linecolor": "#EBF0F8",
            "ticks": ""
           }
          },
          "scene": {
           "xaxis": {
            "backgroundcolor": "white",
            "gridcolor": "#DFE8F3",
            "gridwidth": 2,
            "linecolor": "#EBF0F8",
            "showbackground": true,
            "ticks": "",
            "zerolinecolor": "#EBF0F8"
           },
           "yaxis": {
            "backgroundcolor": "white",
            "gridcolor": "#DFE8F3",
            "gridwidth": 2,
            "linecolor": "#EBF0F8",
            "showbackground": true,
            "ticks": "",
            "zerolinecolor": "#EBF0F8"
           },
           "zaxis": {
            "backgroundcolor": "white",
            "gridcolor": "#DFE8F3",
            "gridwidth": 2,
            "linecolor": "#EBF0F8",
            "showbackground": true,
            "ticks": "",
            "zerolinecolor": "#EBF0F8"
           }
          },
          "shapedefaults": {
           "line": {
            "color": "#2a3f5f"
           }
          },
          "ternary": {
           "aaxis": {
            "gridcolor": "#DFE8F3",
            "linecolor": "#A2B1C6",
            "ticks": ""
           },
           "baxis": {
            "gridcolor": "#DFE8F3",
            "linecolor": "#A2B1C6",
            "ticks": ""
           },
           "bgcolor": "white",
           "caxis": {
            "gridcolor": "#DFE8F3",
            "linecolor": "#A2B1C6",
            "ticks": ""
           }
          },
          "title": {
           "x": 0.05
          },
          "xaxis": {
           "automargin": true,
           "gridcolor": "#EBF0F8",
           "linecolor": "#EBF0F8",
           "ticks": "",
           "title": {
            "standoff": 15
           },
           "zerolinecolor": "#EBF0F8",
           "zerolinewidth": 2
          },
          "yaxis": {
           "automargin": true,
           "gridcolor": "#EBF0F8",
           "linecolor": "#EBF0F8",
           "ticks": "",
           "title": {
            "standoff": 15
           },
           "zerolinecolor": "#EBF0F8",
           "zerolinewidth": 2
          }
         }
        },
        "title": {
         "text": "Stock Price Prediction - MAE: 4.30"
        },
        "xaxis": {
         "anchor": "y",
         "domain": [
          0,
          1
         ],
         "title": {
          "text": "Date"
         }
        },
        "yaxis": {
         "anchor": "x",
         "domain": [
          0,
          1
         ],
         "title": {
          "text": "Price"
         }
        }
       }
      }
     },
     "metadata": {},
     "output_type": "display_data"
    }
   ],
   "source": [
    "# Run model evaluation\n",
    "evaluate_model(model, dataset)"
   ]
  },
  {
   "cell_type": "code",
   "execution_count": 11,
   "metadata": {},
   "outputs": [],
   "source": [
    "# Save model\n",
    "with open('../models/model_nb.pkl', 'wb') as f:\n",
    "    pickle.dump(model, f)"
   ]
  },
  {
   "cell_type": "code",
   "execution_count": null,
   "metadata": {},
   "outputs": [],
   "source": []
  }
 ],
 "metadata": {
  "kernelspec": {
   "display_name": ".venv",
   "language": "python",
   "name": "python3"
  },
  "language_info": {
   "codemirror_mode": {
    "name": "ipython",
    "version": 3
   },
   "file_extension": ".py",
   "mimetype": "text/x-python",
   "name": "python",
   "nbconvert_exporter": "python",
   "pygments_lexer": "ipython3",
   "version": "3.11.4"
  }
 },
 "nbformat": 4,
 "nbformat_minor": 2
}
